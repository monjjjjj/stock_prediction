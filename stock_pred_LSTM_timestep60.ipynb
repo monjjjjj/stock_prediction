{
  "nbformat": 4,
  "nbformat_minor": 0,
  "metadata": {
    "colab": {
      "provenance": [],
      "authorship_tag": "ABX9TyP4rBvAVskyESpKG4jn0X9t",
      "include_colab_link": true
    },
    "kernelspec": {
      "name": "python3",
      "display_name": "Python 3"
    },
    "language_info": {
      "name": "python"
    },
    "accelerator": "GPU",
    "gpuClass": "standard"
  },
  "cells": [
    {
      "cell_type": "markdown",
      "metadata": {
        "id": "view-in-github",
        "colab_type": "text"
      },
      "source": [
        "<a href=\"https://colab.research.google.com/github/monjjjjj/stockprice_prediction/blob/main/stock_pred_LSTM_timestep60.ipynb\" target=\"_parent\"><img src=\"https://colab.research.google.com/assets/colab-badge.svg\" alt=\"Open In Colab\"/></a>"
      ]
    },
    {
      "cell_type": "code",
      "execution_count": 1,
      "metadata": {
        "id": "TjZyvi3K_MAZ"
      },
      "outputs": [],
      "source": [
        "import numpy as np \n",
        "import pandas as pd \n",
        "from matplotlib import pyplot as plt\n",
        "from sklearn.preprocessing import MinMaxScaler\n",
        "from keras.models import Sequential\n",
        "from keras.layers import Dense\n",
        "from keras.layers import LSTM\n",
        "from keras.layers import Dropout\n",
        "from google.colab import drive"
      ]
    },
    {
      "cell_type": "code",
      "source": [
        "drive.mount('/content/drive')"
      ],
      "metadata": {
        "colab": {
          "base_uri": "https://localhost:8080/"
        },
        "id": "2__6aAVdDLLD",
        "outputId": "63805e7c-88fb-4d23-c628-9dbee050ed19"
      },
      "execution_count": 2,
      "outputs": [
        {
          "output_type": "stream",
          "name": "stdout",
          "text": [
            "Mounted at /content/drive\n"
          ]
        }
      ]
    },
    {
      "cell_type": "code",
      "source": [
        "# Import the training set\n",
        "dataset_train = pd.read_csv('/content/drive/MyDrive/StockPrice_prediction/google_2012_2016_trian.csv')  # 讀取訓練集\n",
        "training_set = dataset_train.iloc[:, 1:2].values  # 取「Open」欄位值"
      ],
      "metadata": {
        "id": "5keloHoIa5Um"
      },
      "execution_count": 3,
      "outputs": []
    },
    {
      "cell_type": "code",
      "source": [
        "# Feature Scaling\n",
        "from sklearn.preprocessing import MinMaxScaler\n",
        "\n",
        "sc = MinMaxScaler(feature_range = (0, 1))\n",
        "training_set_scaled = sc.fit_transform(training_set)"
      ],
      "metadata": {
        "id": "p0Z3PFP7DPWK"
      },
      "execution_count": 4,
      "outputs": []
    },
    {
      "cell_type": "code",
      "source": [
        "X_train = []   #預測點的前 60 天的資料\n",
        "y_train = []   #預測點\n",
        "for i in range(60, 1258):  # 1258 是訓練集總數\n",
        "    X_train.append(training_set_scaled[i-60:i, 0])\n",
        "    y_train.append(training_set_scaled[i, 0])\n",
        "X_train, y_train = np.array(X_train), np.array(y_train)  # 轉成numpy array的格式，以利輸入 RNN\n",
        "X_train = np.reshape(X_train, (X_train.shape[0], X_train.shape[1], 1))"
      ],
      "metadata": {
        "id": "3GBP6DkbEZs9"
      },
      "execution_count": 5,
      "outputs": []
    },
    {
      "cell_type": "code",
      "source": [
        "def build_model():\n",
        "  model = Sequential()\n",
        "  model.add(LSTM(units = 50, return_sequences = True, input_shape = (X_train.shape[1], 1)))\n",
        "  model.add(Dropout(0.2))\n",
        "  model.add(LSTM(units = 50, return_sequences = True))\n",
        "  model.add(Dropout(0.2))\n",
        "  model.add(LSTM(units = 50, return_sequences = True))\n",
        "  model.add(Dropout(0.2))\n",
        "  model.add(LSTM(units = 50))\n",
        "  model.add(Dropout(0.2))\n",
        "  model.add(Dense(units = 1))\n",
        "\n",
        "  model.compile(optimizer = 'adam', loss = 'mean_squared_error')\n",
        "  print(model.summary())\n",
        "\n",
        "  return model"
      ],
      "metadata": {
        "id": "-mRhg5pdEt__"
      },
      "execution_count": 6,
      "outputs": []
    },
    {
      "cell_type": "code",
      "source": [
        "model = build_model()\n",
        "model.fit(X_train, y_train, epochs = 100, batch_size = 32)"
      ],
      "metadata": {
        "colab": {
          "base_uri": "https://localhost:8080/"
        },
        "id": "tGncgSMCIe78",
        "outputId": "f2913b61-4030-44ef-bd11-ce9d111a2af0"
      },
      "execution_count": 7,
      "outputs": [
        {
          "output_type": "stream",
          "name": "stdout",
          "text": [
            "Model: \"sequential\"\n",
            "_________________________________________________________________\n",
            " Layer (type)                Output Shape              Param #   \n",
            "=================================================================\n",
            " lstm (LSTM)                 (None, 60, 50)            10400     \n",
            "                                                                 \n",
            " dropout (Dropout)           (None, 60, 50)            0         \n",
            "                                                                 \n",
            " lstm_1 (LSTM)               (None, 60, 50)            20200     \n",
            "                                                                 \n",
            " dropout_1 (Dropout)         (None, 60, 50)            0         \n",
            "                                                                 \n",
            " lstm_2 (LSTM)               (None, 60, 50)            20200     \n",
            "                                                                 \n",
            " dropout_2 (Dropout)         (None, 60, 50)            0         \n",
            "                                                                 \n",
            " lstm_3 (LSTM)               (None, 50)                20200     \n",
            "                                                                 \n",
            " dropout_3 (Dropout)         (None, 50)                0         \n",
            "                                                                 \n",
            " dense (Dense)               (None, 1)                 51        \n",
            "                                                                 \n",
            "=================================================================\n",
            "Total params: 71,051\n",
            "Trainable params: 71,051\n",
            "Non-trainable params: 0\n",
            "_________________________________________________________________\n",
            "None\n",
            "Epoch 1/100\n",
            "38/38 [==============================] - 11s 16ms/step - loss: 0.0438\n",
            "Epoch 2/100\n",
            "38/38 [==============================] - 1s 14ms/step - loss: 0.0053\n",
            "Epoch 3/100\n",
            "38/38 [==============================] - 1s 14ms/step - loss: 0.0049\n",
            "Epoch 4/100\n",
            "38/38 [==============================] - 1s 15ms/step - loss: 0.0046\n",
            "Epoch 5/100\n",
            "38/38 [==============================] - 1s 14ms/step - loss: 0.0048\n",
            "Epoch 6/100\n",
            "38/38 [==============================] - 1s 14ms/step - loss: 0.0049\n",
            "Epoch 7/100\n",
            "38/38 [==============================] - 1s 15ms/step - loss: 0.0044\n",
            "Epoch 8/100\n",
            "38/38 [==============================] - 1s 15ms/step - loss: 0.0047\n",
            "Epoch 9/100\n",
            "38/38 [==============================] - 1s 15ms/step - loss: 0.0042\n",
            "Epoch 10/100\n",
            "38/38 [==============================] - 1s 15ms/step - loss: 0.0043\n",
            "Epoch 11/100\n",
            "38/38 [==============================] - 1s 14ms/step - loss: 0.0038\n",
            "Epoch 12/100\n",
            "38/38 [==============================] - 1s 14ms/step - loss: 0.0046\n",
            "Epoch 13/100\n",
            "38/38 [==============================] - 1s 14ms/step - loss: 0.0038\n",
            "Epoch 14/100\n",
            "38/38 [==============================] - 1s 14ms/step - loss: 0.0039\n",
            "Epoch 15/100\n",
            "38/38 [==============================] - 1s 14ms/step - loss: 0.0039\n",
            "Epoch 16/100\n",
            "38/38 [==============================] - 1s 14ms/step - loss: 0.0038\n",
            "Epoch 17/100\n",
            "38/38 [==============================] - 1s 15ms/step - loss: 0.0037\n",
            "Epoch 18/100\n",
            "38/38 [==============================] - 1s 15ms/step - loss: 0.0036\n",
            "Epoch 19/100\n",
            "38/38 [==============================] - 1s 14ms/step - loss: 0.0034\n",
            "Epoch 20/100\n",
            "38/38 [==============================] - 1s 14ms/step - loss: 0.0033\n",
            "Epoch 21/100\n",
            "38/38 [==============================] - 1s 15ms/step - loss: 0.0033\n",
            "Epoch 22/100\n",
            "38/38 [==============================] - 1s 14ms/step - loss: 0.0034\n",
            "Epoch 23/100\n",
            "38/38 [==============================] - 1s 15ms/step - loss: 0.0032\n",
            "Epoch 24/100\n",
            "38/38 [==============================] - 1s 14ms/step - loss: 0.0031\n",
            "Epoch 25/100\n",
            "38/38 [==============================] - 1s 14ms/step - loss: 0.0031\n",
            "Epoch 26/100\n",
            "38/38 [==============================] - 1s 14ms/step - loss: 0.0030\n",
            "Epoch 27/100\n",
            "38/38 [==============================] - 1s 15ms/step - loss: 0.0032\n",
            "Epoch 28/100\n",
            "38/38 [==============================] - 1s 14ms/step - loss: 0.0029\n",
            "Epoch 29/100\n",
            "38/38 [==============================] - 1s 14ms/step - loss: 0.0029\n",
            "Epoch 30/100\n",
            "38/38 [==============================] - 1s 14ms/step - loss: 0.0031\n",
            "Epoch 31/100\n",
            "38/38 [==============================] - 1s 14ms/step - loss: 0.0029\n",
            "Epoch 32/100\n",
            "38/38 [==============================] - 1s 14ms/step - loss: 0.0027\n",
            "Epoch 33/100\n",
            "38/38 [==============================] - 1s 14ms/step - loss: 0.0027\n",
            "Epoch 34/100\n",
            "38/38 [==============================] - 1s 14ms/step - loss: 0.0031\n",
            "Epoch 35/100\n",
            "38/38 [==============================] - 1s 14ms/step - loss: 0.0032\n",
            "Epoch 36/100\n",
            "38/38 [==============================] - 1s 15ms/step - loss: 0.0030\n",
            "Epoch 37/100\n",
            "38/38 [==============================] - 1s 14ms/step - loss: 0.0029\n",
            "Epoch 38/100\n",
            "38/38 [==============================] - 1s 15ms/step - loss: 0.0025\n",
            "Epoch 39/100\n",
            "38/38 [==============================] - 1s 14ms/step - loss: 0.0024\n",
            "Epoch 40/100\n",
            "38/38 [==============================] - 1s 14ms/step - loss: 0.0029\n",
            "Epoch 41/100\n",
            "38/38 [==============================] - 1s 14ms/step - loss: 0.0027\n",
            "Epoch 42/100\n",
            "38/38 [==============================] - 1s 15ms/step - loss: 0.0025\n",
            "Epoch 43/100\n",
            "38/38 [==============================] - 1s 14ms/step - loss: 0.0026\n",
            "Epoch 44/100\n",
            "38/38 [==============================] - 1s 14ms/step - loss: 0.0028\n",
            "Epoch 45/100\n",
            "38/38 [==============================] - 1s 14ms/step - loss: 0.0027\n",
            "Epoch 46/100\n",
            "38/38 [==============================] - 1s 14ms/step - loss: 0.0026\n",
            "Epoch 47/100\n",
            "38/38 [==============================] - 1s 14ms/step - loss: 0.0023\n",
            "Epoch 48/100\n",
            "38/38 [==============================] - 1s 14ms/step - loss: 0.0023\n",
            "Epoch 49/100\n",
            "38/38 [==============================] - 1s 14ms/step - loss: 0.0024\n",
            "Epoch 50/100\n",
            "38/38 [==============================] - 1s 14ms/step - loss: 0.0025\n",
            "Epoch 51/100\n",
            "38/38 [==============================] - 1s 14ms/step - loss: 0.0022\n",
            "Epoch 52/100\n",
            "38/38 [==============================] - 1s 13ms/step - loss: 0.0024\n",
            "Epoch 53/100\n",
            "38/38 [==============================] - 1s 14ms/step - loss: 0.0026\n",
            "Epoch 54/100\n",
            "38/38 [==============================] - 1s 14ms/step - loss: 0.0023\n",
            "Epoch 55/100\n",
            "38/38 [==============================] - 1s 14ms/step - loss: 0.0024\n",
            "Epoch 56/100\n",
            "38/38 [==============================] - 1s 14ms/step - loss: 0.0024\n",
            "Epoch 57/100\n",
            "38/38 [==============================] - 1s 14ms/step - loss: 0.0022\n",
            "Epoch 58/100\n",
            "38/38 [==============================] - 1s 15ms/step - loss: 0.0023\n",
            "Epoch 59/100\n",
            "38/38 [==============================] - 1s 14ms/step - loss: 0.0022\n",
            "Epoch 60/100\n",
            "38/38 [==============================] - 1s 14ms/step - loss: 0.0021\n",
            "Epoch 61/100\n",
            "38/38 [==============================] - 1s 14ms/step - loss: 0.0022\n",
            "Epoch 62/100\n",
            "38/38 [==============================] - 1s 15ms/step - loss: 0.0020\n",
            "Epoch 63/100\n",
            "38/38 [==============================] - 1s 14ms/step - loss: 0.0022\n",
            "Epoch 64/100\n",
            "38/38 [==============================] - 1s 15ms/step - loss: 0.0021\n",
            "Epoch 65/100\n",
            "38/38 [==============================] - 1s 14ms/step - loss: 0.0019\n",
            "Epoch 66/100\n",
            "38/38 [==============================] - 1s 14ms/step - loss: 0.0020\n",
            "Epoch 67/100\n",
            "38/38 [==============================] - 1s 14ms/step - loss: 0.0021\n",
            "Epoch 68/100\n",
            "38/38 [==============================] - 1s 14ms/step - loss: 0.0023\n",
            "Epoch 69/100\n",
            "38/38 [==============================] - 1s 14ms/step - loss: 0.0019\n",
            "Epoch 70/100\n",
            "38/38 [==============================] - 1s 15ms/step - loss: 0.0019\n",
            "Epoch 71/100\n",
            "38/38 [==============================] - 1s 14ms/step - loss: 0.0018\n",
            "Epoch 72/100\n",
            "38/38 [==============================] - 1s 14ms/step - loss: 0.0019\n",
            "Epoch 73/100\n",
            "38/38 [==============================] - 1s 14ms/step - loss: 0.0020\n",
            "Epoch 74/100\n",
            "38/38 [==============================] - 1s 14ms/step - loss: 0.0019\n",
            "Epoch 75/100\n",
            "38/38 [==============================] - 1s 14ms/step - loss: 0.0020\n",
            "Epoch 76/100\n",
            "38/38 [==============================] - 1s 14ms/step - loss: 0.0017\n",
            "Epoch 77/100\n",
            "38/38 [==============================] - 1s 14ms/step - loss: 0.0017\n",
            "Epoch 78/100\n",
            "38/38 [==============================] - 1s 14ms/step - loss: 0.0018\n",
            "Epoch 79/100\n",
            "38/38 [==============================] - 1s 14ms/step - loss: 0.0017\n",
            "Epoch 80/100\n",
            "38/38 [==============================] - 1s 14ms/step - loss: 0.0017\n",
            "Epoch 81/100\n",
            "38/38 [==============================] - 1s 14ms/step - loss: 0.0016\n",
            "Epoch 82/100\n",
            "38/38 [==============================] - 1s 14ms/step - loss: 0.0019\n",
            "Epoch 83/100\n",
            "38/38 [==============================] - 1s 14ms/step - loss: 0.0019\n",
            "Epoch 84/100\n",
            "38/38 [==============================] - 1s 14ms/step - loss: 0.0017\n",
            "Epoch 85/100\n",
            "38/38 [==============================] - 1s 15ms/step - loss: 0.0018\n",
            "Epoch 86/100\n",
            "38/38 [==============================] - 1s 14ms/step - loss: 0.0018\n",
            "Epoch 87/100\n",
            "38/38 [==============================] - 1s 14ms/step - loss: 0.0014\n",
            "Epoch 88/100\n",
            "38/38 [==============================] - 1s 14ms/step - loss: 0.0015\n",
            "Epoch 89/100\n",
            "38/38 [==============================] - 1s 14ms/step - loss: 0.0017\n",
            "Epoch 90/100\n",
            "38/38 [==============================] - 1s 14ms/step - loss: 0.0014\n",
            "Epoch 91/100\n",
            "38/38 [==============================] - 1s 14ms/step - loss: 0.0016\n",
            "Epoch 92/100\n",
            "38/38 [==============================] - 1s 14ms/step - loss: 0.0014\n",
            "Epoch 93/100\n",
            "38/38 [==============================] - 1s 14ms/step - loss: 0.0018\n",
            "Epoch 94/100\n",
            "38/38 [==============================] - 1s 14ms/step - loss: 0.0015\n",
            "Epoch 95/100\n",
            "38/38 [==============================] - 1s 14ms/step - loss: 0.0015\n",
            "Epoch 96/100\n",
            "38/38 [==============================] - 1s 15ms/step - loss: 0.0016\n",
            "Epoch 97/100\n",
            "38/38 [==============================] - 1s 14ms/step - loss: 0.0016\n",
            "Epoch 98/100\n",
            "38/38 [==============================] - 1s 14ms/step - loss: 0.0015\n",
            "Epoch 99/100\n",
            "38/38 [==============================] - 1s 14ms/step - loss: 0.0014\n",
            "Epoch 100/100\n",
            "38/38 [==============================] - 1s 14ms/step - loss: 0.0013\n"
          ]
        },
        {
          "output_type": "execute_result",
          "data": {
            "text/plain": [
              "<keras.callbacks.History at 0x7fe9a01b6130>"
            ]
          },
          "metadata": {},
          "execution_count": 7
        }
      ]
    },
    {
      "cell_type": "code",
      "source": [
        "dataset_test = pd.read_csv('/content/drive/MyDrive/StockPrice_prediction/google_2017_test.csv')\n",
        "real_stock_price = dataset_test.iloc[:, 1:2].values"
      ],
      "metadata": {
        "id": "BXURmeTPEGzw"
      },
      "execution_count": 8,
      "outputs": []
    },
    {
      "cell_type": "code",
      "source": [
        "dataset_total = pd.concat((dataset_train['Open'], dataset_test['Open']), axis = 0)\n",
        "inputs = dataset_total[len(dataset_total) - len(dataset_test) - 60:].values\n",
        "inputs = inputs.reshape(-1,1)\n",
        "inputs = sc.transform(inputs) # Feature Scaling\n",
        "\n",
        "X_test = []\n",
        "for i in range(60, 80):  # timesteps一樣60； 80 = 先前的60天資料+2017年的20天資料\n",
        "    X_test.append(inputs[i-60:i, 0])\n",
        "X_test = np.array(X_test)\n",
        "X_test = np.reshape(X_test, (X_test.shape[0], X_test.shape[1], 1))  # Reshape 成 3-dimension"
      ],
      "metadata": {
        "id": "1SmSenTPVH2X"
      },
      "execution_count": 9,
      "outputs": []
    },
    {
      "cell_type": "code",
      "source": [
        "predicted_stock_price = model.predict(X_test)\n",
        "predicted_stock_price = sc.inverse_transform(predicted_stock_price)  # to get the original scale\n",
        "np.savetxt(\"prediction.csv\", predicted_stock_price, delimiter=\",\")"
      ],
      "metadata": {
        "colab": {
          "base_uri": "https://localhost:8080/"
        },
        "id": "RRQcViLiaqdd",
        "outputId": "aad7e896-a197-4b17-fa2e-3d12703bdb15"
      },
      "execution_count": 10,
      "outputs": [
        {
          "output_type": "stream",
          "name": "stdout",
          "text": [
            "1/1 [==============================] - 1s 1s/step\n"
          ]
        }
      ]
    },
    {
      "cell_type": "code",
      "source": [
        "# Visualising the results\n",
        "plt.plot(real_stock_price, color = 'red', label = 'Real Google Stock Price')  # 紅線表示真實股價\n",
        "plt.plot(predicted_stock_price, color = 'blue', label = 'Predicted Google Stock Price')  # 藍線表示預測股價\n",
        "plt.title('Google Open Stock Price Prediction')\n",
        "plt.xlabel('Time')\n",
        "plt.ylabel('Google Stock Price')\n",
        "plt.legend()\n",
        "plt.show()"
      ],
      "metadata": {
        "colab": {
          "base_uri": "https://localhost:8080/",
          "height": 295
        },
        "id": "9kLFjSWLav5y",
        "outputId": "2668df5c-f438-4510-c320-65f64ac25f1f"
      },
      "execution_count": 11,
      "outputs": [
        {
          "output_type": "display_data",
          "data": {
            "text/plain": [
              "<Figure size 432x288 with 1 Axes>"
            ],
            "image/png": "[encoded data removed]"
          },
          "metadata": {
            "needs_background": "light"
          }
        }
      ]
    }
  ]
}