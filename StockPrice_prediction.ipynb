{
  "nbformat": 4,
  "nbformat_minor": 0,
  "metadata": {
    "colab": {
      "provenance": [],
      "authorship_tag": "ABX9TyMdo7ZaDRsp4yoCFOrP3ntG",
      "include_colab_link": true
    },
    "kernelspec": {
      "name": "python3",
      "display_name": "Python 3"
    },
    "language_info": {
      "name": "python"
    },
    "accelerator": "GPU",
    "gpuClass": "standard"
  },
  "cells": [
    {
      "cell_type": "markdown",
      "metadata": {
        "id": "view-in-github",
        "colab_type": "text"
      },
      "source": [
        "<a href=\"https://colab.research.google.com/github/monjjjjj/stockprice_prediction/blob/main/StockPrice_prediction.ipynb\" target=\"_parent\"><img src=\"https://colab.research.google.com/assets/colab-badge.svg\" alt=\"Open In Colab\"/></a>"
      ]
    },
    {
      "cell_type": "code",
      "execution_count": 1,
      "metadata": {
        "id": "5kEO_p0Hf9Hc"
      },
      "outputs": [],
      "source": [
        "import numpy as np # linear algebra\n",
        "import pandas as pd # data processing, CSV file I/O (e.g. pd.read_csv)\n",
        "from matplotlib import pyplot as plt\n",
        "from sklearn.preprocessing import MinMaxScaler, StandardScaler\n",
        "from keras.models import Sequential\n",
        "from keras.layers import Dense\n",
        "from keras.layers import LSTM\n",
        "from google.colab import drive"
      ]
    },
    {
      "cell_type": "code",
      "source": [
        "drive.mount('/content/drive')"
      ],
      "metadata": {
        "colab": {
          "base_uri": "https://localhost:8080/"
        },
        "id": "rfvM1_RbgIPZ",
        "outputId": "8213711c-2fb1-4b1f-b8b7-36715b252b17"
      },
      "execution_count": 2,
      "outputs": [
        {
          "output_type": "stream",
          "name": "stdout",
          "text": [
            "Mounted at /content/drive\n"
          ]
        }
      ]
    },
    {
      "cell_type": "code",
      "source": [
        "training_set = pd.read_csv('/content/drive/MyDrive/StockPrice_prediction/Starbucks_Stock_2014_2018.csv')\n",
        "#training_set.head()\n",
        "\n",
        "training_set[\"Date\"] = pd.to_datetime(training_set[\"Date\"])\n",
        "training_set[\"year\"] = training_set[\"Date\"].dt.year\n",
        "training_set[\"month\"] = training_set[\"Date\"].dt.month\n",
        "training_set[\"date\"] = training_set[\"Date\"].dt.day\n",
        "training_set[\"day\"] = training_set[\"Date\"].dt.dayofweek\n",
        "#training_set.head()\n",
        "\n",
        "training_set =  training_set.drop([\"Date\"], axis=1)\n",
        "#training_set.head()\n",
        "\n",
        "training_set = training_set.iloc[::-1]\n",
        "#training_set.head()"
      ],
      "metadata": {
        "id": "16JUpDShgILb"
      },
      "execution_count": 3,
      "outputs": []
    },
    {
      "cell_type": "code",
      "source": [
        "#training_set = training_set.iloc[:, 1:2].values\n",
        "#print(training_set)\n",
        "#print(len(training_set))"
      ],
      "metadata": {
        "id": "uwgh3hnxgIHA"
      },
      "execution_count": 4,
      "outputs": []
    },
    {
      "cell_type": "code",
      "source": [
        "training_set = training_set.iloc[:, 1:2].values\n",
        "\n",
        "scaler = MinMaxScaler()\n",
        "training_set = scaler.fit_transform(training_set)\n",
        "\n",
        "X_train = training_set[0:1257]\n",
        "y_train = training_set[1:1258]\n",
        "X_train = np.reshape(X_train, (1257, 1, 1))"
      ],
      "metadata": {
        "id": "9V3deQSCgIAL"
      },
      "execution_count": 5,
      "outputs": []
    },
    {
      "cell_type": "code",
      "source": [
        "model = Sequential()\n",
        "model.add(LSTM(units = 100, activation = 'sigmoid', input_shape = (None, 1)))\n",
        "model.add(Dense(units = 1))\n",
        "model.compile(optimizer = 'adam', loss = 'mean_squared_error')\n",
        "model.fit(X_train, y_train, batch_size = 4, epochs = 100)\n",
        "\n",
        "print(model.summary())"
      ],
      "metadata": {
        "colab": {
          "base_uri": "https://localhost:8080/"
        },
        "id": "bhowo89cgH4U",
        "outputId": "0cadee2b-f8ae-467a-ec8d-1061e04ef629"
      },
      "execution_count": 6,
      "outputs": [
        {
          "output_type": "stream",
          "name": "stderr",
          "text": [
            "WARNING:tensorflow:Layer lstm will not use cuDNN kernels since it doesn't meet the criteria. It will use a generic GPU kernel as fallback when running on GPU.\n"
          ]
        },
        {
          "output_type": "stream",
          "name": "stdout",
          "text": [
            "Epoch 1/100\n",
            "315/315 [==============================] - 5s 4ms/step - loss: 0.0418\n",
            "Epoch 2/100\n",
            "315/315 [==============================] - 1s 4ms/step - loss: 0.0097\n",
            "Epoch 3/100\n",
            "315/315 [==============================] - 1s 4ms/step - loss: 0.0012\n",
            "Epoch 4/100\n",
            "315/315 [==============================] - 1s 4ms/step - loss: 3.8880e-04\n",
            "Epoch 5/100\n",
            "315/315 [==============================] - 1s 4ms/step - loss: 3.7405e-04\n",
            "Epoch 6/100\n",
            "315/315 [==============================] - 1s 4ms/step - loss: 3.7290e-04\n",
            "Epoch 7/100\n",
            "315/315 [==============================] - 1s 4ms/step - loss: 3.8328e-04\n",
            "Epoch 8/100\n",
            "315/315 [==============================] - 1s 4ms/step - loss: 3.9527e-04\n",
            "Epoch 9/100\n",
            "315/315 [==============================] - 1s 4ms/step - loss: 3.7844e-04\n",
            "Epoch 10/100\n",
            "315/315 [==============================] - 1s 4ms/step - loss: 4.2866e-04\n",
            "Epoch 11/100\n",
            "315/315 [==============================] - 1s 4ms/step - loss: 4.3960e-04\n",
            "Epoch 12/100\n",
            "315/315 [==============================] - 1s 4ms/step - loss: 4.0205e-04\n",
            "Epoch 13/100\n",
            "315/315 [==============================] - 1s 4ms/step - loss: 4.6596e-04\n",
            "Epoch 14/100\n",
            "315/315 [==============================] - 1s 4ms/step - loss: 4.2528e-04\n",
            "Epoch 15/100\n",
            "315/315 [==============================] - 1s 4ms/step - loss: 4.1534e-04\n",
            "Epoch 16/100\n",
            "315/315 [==============================] - 1s 4ms/step - loss: 4.1940e-04\n",
            "Epoch 17/100\n",
            "315/315 [==============================] - 1s 4ms/step - loss: 4.2546e-04\n",
            "Epoch 18/100\n",
            "315/315 [==============================] - 1s 4ms/step - loss: 4.7970e-04\n",
            "Epoch 19/100\n",
            "315/315 [==============================] - 1s 4ms/step - loss: 4.3936e-04\n",
            "Epoch 20/100\n",
            "315/315 [==============================] - 1s 4ms/step - loss: 4.2835e-04\n",
            "Epoch 21/100\n",
            "315/315 [==============================] - 1s 4ms/step - loss: 4.2243e-04\n",
            "Epoch 22/100\n",
            "315/315 [==============================] - 1s 4ms/step - loss: 4.5101e-04\n",
            "Epoch 23/100\n",
            "315/315 [==============================] - 1s 4ms/step - loss: 4.3484e-04\n",
            "Epoch 24/100\n",
            "315/315 [==============================] - 1s 4ms/step - loss: 4.1556e-04\n",
            "Epoch 25/100\n",
            "315/315 [==============================] - 1s 4ms/step - loss: 4.1354e-04\n",
            "Epoch 26/100\n",
            "315/315 [==============================] - 1s 4ms/step - loss: 4.3032e-04\n",
            "Epoch 27/100\n",
            "315/315 [==============================] - 2s 6ms/step - loss: 4.5728e-04\n",
            "Epoch 28/100\n",
            "315/315 [==============================] - 2s 7ms/step - loss: 4.5738e-04\n",
            "Epoch 29/100\n",
            "315/315 [==============================] - 1s 4ms/step - loss: 4.3331e-04\n",
            "Epoch 30/100\n",
            "315/315 [==============================] - 1s 4ms/step - loss: 4.1020e-04\n",
            "Epoch 31/100\n",
            "315/315 [==============================] - 1s 4ms/step - loss: 4.3483e-04\n",
            "Epoch 32/100\n",
            "315/315 [==============================] - 1s 4ms/step - loss: 4.6085e-04\n",
            "Epoch 33/100\n",
            "315/315 [==============================] - 1s 4ms/step - loss: 4.1392e-04\n",
            "Epoch 34/100\n",
            "315/315 [==============================] - 1s 4ms/step - loss: 5.0284e-04\n",
            "Epoch 35/100\n",
            "315/315 [==============================] - 1s 4ms/step - loss: 4.3624e-04\n",
            "Epoch 36/100\n",
            "315/315 [==============================] - 1s 4ms/step - loss: 3.9917e-04\n",
            "Epoch 37/100\n",
            "315/315 [==============================] - 1s 4ms/step - loss: 4.3834e-04\n",
            "Epoch 38/100\n",
            "315/315 [==============================] - 1s 4ms/step - loss: 4.2961e-04\n",
            "Epoch 39/100\n",
            "315/315 [==============================] - 1s 4ms/step - loss: 4.3545e-04\n",
            "Epoch 40/100\n",
            "315/315 [==============================] - 1s 4ms/step - loss: 4.7310e-04\n",
            "Epoch 41/100\n",
            "315/315 [==============================] - 1s 4ms/step - loss: 4.1023e-04\n",
            "Epoch 42/100\n",
            "315/315 [==============================] - 1s 4ms/step - loss: 4.9182e-04\n",
            "Epoch 43/100\n",
            "315/315 [==============================] - 1s 4ms/step - loss: 4.3091e-04\n",
            "Epoch 44/100\n",
            "315/315 [==============================] - 1s 4ms/step - loss: 4.8279e-04\n",
            "Epoch 45/100\n",
            "315/315 [==============================] - 1s 4ms/step - loss: 4.4779e-04\n",
            "Epoch 46/100\n",
            "315/315 [==============================] - 1s 4ms/step - loss: 4.4136e-04\n",
            "Epoch 47/100\n",
            "315/315 [==============================] - 1s 4ms/step - loss: 4.7674e-04\n",
            "Epoch 48/100\n",
            "315/315 [==============================] - 1s 4ms/step - loss: 4.2201e-04\n",
            "Epoch 49/100\n",
            "315/315 [==============================] - 1s 4ms/step - loss: 4.4649e-04\n",
            "Epoch 50/100\n",
            "315/315 [==============================] - 1s 4ms/step - loss: 4.7432e-04\n",
            "Epoch 51/100\n",
            "315/315 [==============================] - 1s 4ms/step - loss: 4.3188e-04\n",
            "Epoch 52/100\n",
            "315/315 [==============================] - 1s 4ms/step - loss: 4.2453e-04\n",
            "Epoch 53/100\n",
            "315/315 [==============================] - 1s 4ms/step - loss: 4.4954e-04\n",
            "Epoch 54/100\n",
            "315/315 [==============================] - 1s 4ms/step - loss: 4.4287e-04\n",
            "Epoch 55/100\n",
            "315/315 [==============================] - 1s 4ms/step - loss: 4.7117e-04\n",
            "Epoch 56/100\n",
            "315/315 [==============================] - 1s 4ms/step - loss: 4.3515e-04\n",
            "Epoch 57/100\n",
            "315/315 [==============================] - 1s 4ms/step - loss: 4.2695e-04\n",
            "Epoch 58/100\n",
            "315/315 [==============================] - 1s 4ms/step - loss: 4.5984e-04\n",
            "Epoch 59/100\n",
            "315/315 [==============================] - 1s 4ms/step - loss: 4.2772e-04\n",
            "Epoch 60/100\n",
            "315/315 [==============================] - 1s 4ms/step - loss: 4.7475e-04\n",
            "Epoch 61/100\n",
            "315/315 [==============================] - 1s 4ms/step - loss: 4.0608e-04\n",
            "Epoch 62/100\n",
            "315/315 [==============================] - 1s 4ms/step - loss: 4.1360e-04\n",
            "Epoch 63/100\n",
            "315/315 [==============================] - 1s 4ms/step - loss: 4.2570e-04\n",
            "Epoch 64/100\n",
            "315/315 [==============================] - 1s 4ms/step - loss: 4.1683e-04\n",
            "Epoch 65/100\n",
            "315/315 [==============================] - 1s 4ms/step - loss: 4.5713e-04\n",
            "Epoch 66/100\n",
            "315/315 [==============================] - 1s 4ms/step - loss: 4.9174e-04\n",
            "Epoch 67/100\n",
            "315/315 [==============================] - 1s 4ms/step - loss: 4.0495e-04\n",
            "Epoch 68/100\n",
            "315/315 [==============================] - 1s 4ms/step - loss: 4.2572e-04\n",
            "Epoch 69/100\n",
            "315/315 [==============================] - 1s 5ms/step - loss: 4.0953e-04\n",
            "Epoch 70/100\n",
            "315/315 [==============================] - 1s 4ms/step - loss: 4.4708e-04\n",
            "Epoch 71/100\n",
            "315/315 [==============================] - 1s 4ms/step - loss: 4.4050e-04\n",
            "Epoch 72/100\n",
            "315/315 [==============================] - 1s 4ms/step - loss: 4.1490e-04\n",
            "Epoch 73/100\n",
            "315/315 [==============================] - 1s 4ms/step - loss: 4.2131e-04\n",
            "Epoch 74/100\n",
            "315/315 [==============================] - 1s 4ms/step - loss: 4.5342e-04\n",
            "Epoch 75/100\n",
            "315/315 [==============================] - 1s 4ms/step - loss: 4.9851e-04\n",
            "Epoch 76/100\n",
            "315/315 [==============================] - 1s 4ms/step - loss: 4.8992e-04\n",
            "Epoch 77/100\n",
            "315/315 [==============================] - 1s 4ms/step - loss: 4.0268e-04\n",
            "Epoch 78/100\n",
            "315/315 [==============================] - 1s 4ms/step - loss: 4.3273e-04\n",
            "Epoch 79/100\n",
            "315/315 [==============================] - 1s 4ms/step - loss: 4.0624e-04\n",
            "Epoch 80/100\n",
            "315/315 [==============================] - 1s 4ms/step - loss: 4.5256e-04\n",
            "Epoch 81/100\n",
            "315/315 [==============================] - 1s 4ms/step - loss: 4.3125e-04\n",
            "Epoch 82/100\n",
            "315/315 [==============================] - 1s 4ms/step - loss: 4.8545e-04\n",
            "Epoch 83/100\n",
            "315/315 [==============================] - 1s 4ms/step - loss: 4.1263e-04\n",
            "Epoch 84/100\n",
            "315/315 [==============================] - 1s 4ms/step - loss: 4.4050e-04\n",
            "Epoch 85/100\n",
            "315/315 [==============================] - 1s 4ms/step - loss: 4.4490e-04\n",
            "Epoch 86/100\n",
            "315/315 [==============================] - 1s 4ms/step - loss: 4.3981e-04\n",
            "Epoch 87/100\n",
            "315/315 [==============================] - 1s 4ms/step - loss: 4.5192e-04\n",
            "Epoch 88/100\n",
            "315/315 [==============================] - 1s 4ms/step - loss: 4.4189e-04\n",
            "Epoch 89/100\n",
            "315/315 [==============================] - 1s 4ms/step - loss: 4.6104e-04\n",
            "Epoch 90/100\n",
            "315/315 [==============================] - 1s 4ms/step - loss: 4.1953e-04\n",
            "Epoch 91/100\n",
            "315/315 [==============================] - 1s 4ms/step - loss: 4.1027e-04\n",
            "Epoch 92/100\n",
            "315/315 [==============================] - 1s 4ms/step - loss: 4.2935e-04\n",
            "Epoch 93/100\n",
            "315/315 [==============================] - 1s 4ms/step - loss: 4.6121e-04\n",
            "Epoch 94/100\n",
            "315/315 [==============================] - 1s 4ms/step - loss: 4.3299e-04\n",
            "Epoch 95/100\n",
            "315/315 [==============================] - 1s 4ms/step - loss: 4.5036e-04\n",
            "Epoch 96/100\n",
            "315/315 [==============================] - 1s 4ms/step - loss: 4.6266e-04\n",
            "Epoch 97/100\n",
            "315/315 [==============================] - 1s 4ms/step - loss: 4.1943e-04\n",
            "Epoch 98/100\n",
            "315/315 [==============================] - 1s 4ms/step - loss: 4.7879e-04\n",
            "Epoch 99/100\n",
            "315/315 [==============================] - 1s 4ms/step - loss: 4.6429e-04\n",
            "Epoch 100/100\n",
            "315/315 [==============================] - 1s 5ms/step - loss: 4.4247e-04\n",
            "Model: \"sequential\"\n",
            "_________________________________________________________________\n",
            " Layer (type)                Output Shape              Param #   \n",
            "=================================================================\n",
            " lstm (LSTM)                 (None, 100)               40800     \n",
            "                                                                 \n",
            " dense (Dense)               (None, 1)                 101       \n",
            "                                                                 \n",
            "=================================================================\n",
            "Total params: 40,901\n",
            "Trainable params: 40,901\n",
            "Non-trainable params: 0\n",
            "_________________________________________________________________\n",
            "None\n"
          ]
        }
      ]
    },
    {
      "cell_type": "code",
      "source": [
        "test_set = pd.read_csv('/content/drive/MyDrive/StockPrice_prediction/Starbucks_Stock_2019_test.csv')\n",
        "real_stock_price = test_set.iloc[:,1:2].values\n",
        "inputs = real_stock_price\n",
        "inputs = scaler.transform(inputs)\n",
        "inputs = np.reshape(inputs, (7, 1, 1))\n",
        "predicted_stock_price = model.predict(inputs)\n",
        "predicted_stock_price = scaler.inverse_transform(predicted_stock_price)"
      ],
      "metadata": {
        "colab": {
          "base_uri": "https://localhost:8080/"
        },
        "id": "pwr0XyejgHwY",
        "outputId": "da823fe1-dede-474d-87cf-1650032b1890"
      },
      "execution_count": 7,
      "outputs": [
        {
          "output_type": "stream",
          "name": "stdout",
          "text": [
            "1/1 [==============================] - 0s 159ms/step\n"
          ]
        }
      ]
    },
    {
      "cell_type": "code",
      "source": [
        "plt.plot(real_stock_price, color = 'red', label = 'Real Stock Price')\n",
        "plt.plot(predicted_stock_price, color = 'blue', label = 'Predicted Stock Price')\n",
        "plt.title('Open Stock Price Prediction')\n",
        "plt.xlabel('Time')\n",
        "plt.ylabel('Stock Price')\n",
        "plt.legend()\n",
        "plt.show()"
      ],
      "metadata": {
        "colab": {
          "base_uri": "https://localhost:8080/",
          "height": 295
        },
        "id": "ebV1co_zgacK",
        "outputId": "f4b7dfd1-4ff7-47c2-acef-ad4e564fb751"
      },
      "execution_count": 8,
      "outputs": [
        {
          "output_type": "display_data",
          "data": {
            "text/plain": [
              "<Figure size 432x288 with 1 Axes>"
            ],
            "image/png": "[encoded data removed]"
          },
          "metadata": {
            "needs_background": "light"
          }
        }
      ]
    },
    {
      "cell_type": "code",
      "source": [
        "# Making predictions for the entire dataset\n",
        "# Getting the real stock price of 2017 - 2021\n",
        "real_stock_price_train = pd.read_csv('/content/drive/MyDrive/StockPrice_prediction/Starbucks_Stock_2014_2018.csv')\n",
        "real_stock_price_train = real_stock_price_train.iloc[:,1:2].values\n",
        "\n",
        "# Getting the predicted stock price of 2017 - 2021\n",
        "predicted_stock_price_train = model.predict(X_train)\n",
        "predicted_stock_price_train = scaler.inverse_transform(predicted_stock_price_train)\n",
        "\n",
        "# Visualising the results\n",
        "plt.plot(real_stock_price_train, color = 'red', label = 'Stock Price')\n",
        "plt.plot(predicted_stock_price_train, color = 'blue', label = 'Predicted Stock Price')\n",
        "plt.title('Stock Price Prediction')\n",
        "plt.xlabel('Time')\n",
        "plt.ylabel('Stock Price')\n",
        "plt.legend()\n",
        "plt.show()"
      ],
      "metadata": {
        "colab": {
          "base_uri": "https://localhost:8080/",
          "height": 313
        },
        "id": "9dOIew-sgfUi",
        "outputId": "23e38d1f-e12c-4644-c8fd-7b8d4779a769"
      },
      "execution_count": 9,
      "outputs": [
        {
          "output_type": "stream",
          "name": "stdout",
          "text": [
            "40/40 [==============================] - 0s 2ms/step\n"
          ]
        },
        {
          "output_type": "display_data",
          "data": {
            "text/plain": [
              "<Figure size 432x288 with 1 Axes>"
            ],
            "image/png": "[encoded data removed]"
          },
          "metadata": {
            "needs_background": "light"
          }
        }
      ]
    },
    {
      "cell_type": "code",
      "source": [
        "import math\n",
        "from sklearn.metrics import mean_squared_error\n",
        "rmse = math.sqrt(mean_squared_error(real_stock_price, predicted_stock_price))"
      ],
      "metadata": {
        "id": "hLiPYt2FghmR"
      },
      "execution_count": 10,
      "outputs": []
    }
  ]
}