{
  "nbformat": 4,
  "nbformat_minor": 0,
  "metadata": {
    "colab": {
      "provenance": [],
      "authorship_tag": "ABX9TyPzk0jKExQ/S5buXz20x+Vl",
      "include_colab_link": true
    },
    "kernelspec": {
      "name": "python3",
      "display_name": "Python 3"
    },
    "language_info": {
      "name": "python"
    },
    "accelerator": "GPU",
    "gpuClass": "standard"
  },
  "cells": [
    {
      "cell_type": "markdown",
      "metadata": {
        "id": "view-in-github",
        "colab_type": "text"
      },
      "source": [
        "<a href=\"https://colab.research.google.com/github/monjjjjj/stockprice_prediction/blob/main/StockPrice_prediction.ipynb\" target=\"_parent\"><img src=\"https://colab.research.google.com/assets/colab-badge.svg\" alt=\"Open In Colab\"/></a>"
      ]
    },
    {
      "cell_type": "code",
      "execution_count": 7,
      "metadata": {
        "id": "5kEO_p0Hf9Hc"
      },
      "outputs": [],
      "source": [
        "import numpy as np # linear algebra\n",
        "import pandas as pd # data processing, CSV file I/O (e.g. pd.read_csv)\n",
        "from matplotlib import pyplot as plt\n",
        "from sklearn.preprocessing import MinMaxScaler, StandardScaler\n",
        "from keras.models import Sequential\n",
        "from keras.layers import Dense\n",
        "from keras.layers import LSTM, Dropout\n",
        "from google.colab import drive"
      ]
    },
    {
      "cell_type": "code",
      "source": [
        "drive.mount('/content/drive')"
      ],
      "metadata": {
        "colab": {
          "base_uri": "https://localhost:8080/"
        },
        "id": "rfvM1_RbgIPZ",
        "outputId": "357151dc-cde0-43fb-d6bb-3ef810b0f592"
      },
      "execution_count": 8,
      "outputs": [
        {
          "output_type": "stream",
          "name": "stdout",
          "text": [
            "Drive already mounted at /content/drive; to attempt to forcibly remount, call drive.mount(\"/content/drive\", force_remount=True).\n"
          ]
        }
      ]
    },
    {
      "cell_type": "code",
      "source": [
        "training_set = pd.read_csv('/content/drive/MyDrive/StockPrice_prediction/Starbucks_Stock_2014_2018.csv')\n",
        "#training_set.head()\n",
        "\n",
        "training_set[\"Date\"] = pd.to_datetime(training_set[\"Date\"])\n",
        "training_set[\"year\"] = training_set[\"Date\"].dt.year\n",
        "training_set[\"month\"] = training_set[\"Date\"].dt.month\n",
        "training_set[\"date\"] = training_set[\"Date\"].dt.day\n",
        "training_set[\"day\"] = training_set[\"Date\"].dt.dayofweek\n",
        "#training_set.head()\n",
        "\n",
        "training_set =  training_set.drop([\"Date\"], axis=1)\n",
        "#training_set.head()\n",
        "\n",
        "training_set = training_set.iloc[::-1]\n",
        "#training_set.head()"
      ],
      "metadata": {
        "id": "16JUpDShgILb"
      },
      "execution_count": 9,
      "outputs": []
    },
    {
      "cell_type": "code",
      "source": [
        "#training_set = training_set.iloc[:, 1:2].values\n",
        "#print(training_set)\n",
        "#print(len(training_set))"
      ],
      "metadata": {
        "id": "uwgh3hnxgIHA"
      },
      "execution_count": 10,
      "outputs": []
    },
    {
      "cell_type": "code",
      "source": [
        "training_set = training_set.iloc[:, 1:2].values\n",
        "\n",
        "scaler = MinMaxScaler()\n",
        "training_set = scaler.fit_transform(training_set)\n",
        "\n",
        "X_train = training_set[0:1257]\n",
        "y_train = training_set[1:1258]\n",
        "X_train = np.reshape(X_train, (1257, 1, 1))"
      ],
      "metadata": {
        "id": "9V3deQSCgIAL"
      },
      "execution_count": 11,
      "outputs": []
    },
    {
      "cell_type": "code",
      "source": [
        "model = Sequential()\n",
        "model.add(LSTM(units = 100, activation = 'sigmoid', input_shape = (None, 1)))\n",
        "model.add(Dense(units = 1))\n",
        "model.compile(optimizer = 'adam', loss = 'mean_squared_error')\n",
        "model.fit(X_train, y_train, batch_size = 4, epochs = 100)\n",
        "\n",
        "print(model.summary())"
      ],
      "metadata": {
        "colab": {
          "base_uri": "https://localhost:8080/"
        },
        "id": "bhowo89cgH4U",
        "outputId": "58a1bdab-06d5-4bda-ac72-02c1fdb6c081"
      },
      "execution_count": 14,
      "outputs": [
        {
          "output_type": "stream",
          "name": "stderr",
          "text": [
            "WARNING:tensorflow:Layer lstm_5 will not use cuDNN kernels since it doesn't meet the criteria. It will use a generic GPU kernel as fallback when running on GPU.\n"
          ]
        },
        {
          "output_type": "stream",
          "name": "stdout",
          "text": [
            "Epoch 1/100\n",
            "315/315 [==============================] - 2s 5ms/step - loss: 0.0627\n",
            "Epoch 2/100\n",
            "315/315 [==============================] - 1s 5ms/step - loss: 0.0193\n",
            "Epoch 3/100\n",
            "315/315 [==============================] - 1s 4ms/step - loss: 0.0048\n",
            "Epoch 4/100\n",
            "315/315 [==============================] - 1s 4ms/step - loss: 8.2119e-04\n",
            "Epoch 5/100\n",
            "315/315 [==============================] - 1s 5ms/step - loss: 3.8291e-04\n",
            "Epoch 6/100\n",
            "315/315 [==============================] - 1s 4ms/step - loss: 3.5471e-04\n",
            "Epoch 7/100\n",
            "315/315 [==============================] - 1s 5ms/step - loss: 3.6167e-04\n",
            "Epoch 8/100\n",
            "315/315 [==============================] - 1s 4ms/step - loss: 3.6074e-04\n",
            "Epoch 9/100\n",
            "315/315 [==============================] - 1s 4ms/step - loss: 3.7793e-04\n",
            "Epoch 10/100\n",
            "315/315 [==============================] - 1s 4ms/step - loss: 3.6655e-04\n",
            "Epoch 11/100\n",
            "315/315 [==============================] - 1s 4ms/step - loss: 3.8770e-04\n",
            "Epoch 12/100\n",
            "315/315 [==============================] - 1s 4ms/step - loss: 4.0470e-04\n",
            "Epoch 13/100\n",
            "315/315 [==============================] - 2s 6ms/step - loss: 3.9346e-04\n",
            "Epoch 14/100\n",
            "315/315 [==============================] - 2s 7ms/step - loss: 3.9510e-04\n",
            "Epoch 15/100\n",
            "315/315 [==============================] - 1s 4ms/step - loss: 4.2460e-04\n",
            "Epoch 16/100\n",
            "315/315 [==============================] - 2s 7ms/step - loss: 4.1745e-04\n",
            "Epoch 17/100\n",
            "315/315 [==============================] - 2s 7ms/step - loss: 4.7640e-04\n",
            "Epoch 18/100\n",
            "315/315 [==============================] - 1s 4ms/step - loss: 4.2305e-04\n",
            "Epoch 19/100\n",
            "315/315 [==============================] - 1s 4ms/step - loss: 4.7058e-04\n",
            "Epoch 20/100\n",
            "315/315 [==============================] - 1s 4ms/step - loss: 4.5146e-04\n",
            "Epoch 21/100\n",
            "315/315 [==============================] - 1s 5ms/step - loss: 4.4665e-04\n",
            "Epoch 22/100\n",
            "315/315 [==============================] - 1s 4ms/step - loss: 4.3602e-04\n",
            "Epoch 23/100\n",
            "315/315 [==============================] - 1s 4ms/step - loss: 4.5183e-04\n",
            "Epoch 24/100\n",
            "315/315 [==============================] - 1s 4ms/step - loss: 4.8371e-04\n",
            "Epoch 25/100\n",
            "315/315 [==============================] - 1s 4ms/step - loss: 4.1166e-04\n",
            "Epoch 26/100\n",
            "315/315 [==============================] - 1s 4ms/step - loss: 4.2553e-04\n",
            "Epoch 27/100\n",
            "315/315 [==============================] - 1s 4ms/step - loss: 4.5168e-04\n",
            "Epoch 28/100\n",
            "315/315 [==============================] - 1s 4ms/step - loss: 4.5815e-04\n",
            "Epoch 29/100\n",
            "315/315 [==============================] - 1s 4ms/step - loss: 4.3860e-04\n",
            "Epoch 30/100\n",
            "315/315 [==============================] - 1s 4ms/step - loss: 4.2058e-04\n",
            "Epoch 31/100\n",
            "315/315 [==============================] - 1s 4ms/step - loss: 4.2406e-04\n",
            "Epoch 32/100\n",
            "315/315 [==============================] - 1s 5ms/step - loss: 4.3815e-04\n",
            "Epoch 33/100\n",
            "315/315 [==============================] - 1s 4ms/step - loss: 4.0438e-04\n",
            "Epoch 34/100\n",
            "315/315 [==============================] - 1s 4ms/step - loss: 4.5755e-04\n",
            "Epoch 35/100\n",
            "315/315 [==============================] - 1s 4ms/step - loss: 4.4408e-04\n",
            "Epoch 36/100\n",
            "315/315 [==============================] - 1s 4ms/step - loss: 4.4992e-04\n",
            "Epoch 37/100\n",
            "315/315 [==============================] - 1s 4ms/step - loss: 4.4400e-04\n",
            "Epoch 38/100\n",
            "315/315 [==============================] - 1s 4ms/step - loss: 4.3967e-04\n",
            "Epoch 39/100\n",
            "315/315 [==============================] - 1s 5ms/step - loss: 4.7015e-04\n",
            "Epoch 40/100\n",
            "315/315 [==============================] - 1s 4ms/step - loss: 4.0236e-04\n",
            "Epoch 41/100\n",
            "315/315 [==============================] - 1s 4ms/step - loss: 4.6885e-04\n",
            "Epoch 42/100\n",
            "315/315 [==============================] - 1s 4ms/step - loss: 4.2834e-04\n",
            "Epoch 43/100\n",
            "315/315 [==============================] - 1s 4ms/step - loss: 4.3043e-04\n",
            "Epoch 44/100\n",
            "315/315 [==============================] - 1s 5ms/step - loss: 4.7387e-04\n",
            "Epoch 45/100\n",
            "315/315 [==============================] - 1s 4ms/step - loss: 4.2894e-04\n",
            "Epoch 46/100\n",
            "315/315 [==============================] - 1s 5ms/step - loss: 4.6736e-04\n",
            "Epoch 47/100\n",
            "315/315 [==============================] - 3s 8ms/step - loss: 4.4620e-04\n",
            "Epoch 48/100\n",
            "315/315 [==============================] - 2s 5ms/step - loss: 4.0567e-04\n",
            "Epoch 49/100\n",
            "315/315 [==============================] - 1s 4ms/step - loss: 4.5384e-04\n",
            "Epoch 50/100\n",
            "315/315 [==============================] - 1s 4ms/step - loss: 4.8655e-04\n",
            "Epoch 51/100\n",
            "315/315 [==============================] - 1s 4ms/step - loss: 4.4973e-04\n",
            "Epoch 52/100\n",
            "315/315 [==============================] - 1s 4ms/step - loss: 4.3979e-04\n",
            "Epoch 53/100\n",
            "315/315 [==============================] - 1s 4ms/step - loss: 4.3127e-04\n",
            "Epoch 54/100\n",
            "315/315 [==============================] - 1s 4ms/step - loss: 4.2083e-04\n",
            "Epoch 55/100\n",
            "315/315 [==============================] - 1s 4ms/step - loss: 4.6289e-04\n",
            "Epoch 56/100\n",
            "315/315 [==============================] - 1s 4ms/step - loss: 4.3335e-04\n",
            "Epoch 57/100\n",
            "315/315 [==============================] - 1s 5ms/step - loss: 4.6471e-04\n",
            "Epoch 58/100\n",
            "315/315 [==============================] - 1s 4ms/step - loss: 4.6087e-04\n",
            "Epoch 59/100\n",
            "315/315 [==============================] - 1s 4ms/step - loss: 4.1532e-04\n",
            "Epoch 60/100\n",
            "315/315 [==============================] - 1s 4ms/step - loss: 4.5838e-04\n",
            "Epoch 61/100\n",
            "315/315 [==============================] - 1s 4ms/step - loss: 4.2009e-04\n",
            "Epoch 62/100\n",
            "315/315 [==============================] - 1s 4ms/step - loss: 4.1715e-04\n",
            "Epoch 63/100\n",
            "315/315 [==============================] - 1s 4ms/step - loss: 4.2693e-04\n",
            "Epoch 64/100\n",
            "315/315 [==============================] - 1s 4ms/step - loss: 4.3746e-04\n",
            "Epoch 65/100\n",
            "315/315 [==============================] - 1s 4ms/step - loss: 4.2769e-04\n",
            "Epoch 66/100\n",
            "315/315 [==============================] - 1s 4ms/step - loss: 4.6562e-04\n",
            "Epoch 67/100\n",
            "315/315 [==============================] - 1s 4ms/step - loss: 4.1080e-04\n",
            "Epoch 68/100\n",
            "315/315 [==============================] - 1s 4ms/step - loss: 4.4572e-04\n",
            "Epoch 69/100\n",
            "315/315 [==============================] - 1s 4ms/step - loss: 4.7387e-04\n",
            "Epoch 70/100\n",
            "315/315 [==============================] - 1s 4ms/step - loss: 4.5638e-04\n",
            "Epoch 71/100\n",
            "315/315 [==============================] - 1s 4ms/step - loss: 4.5790e-04\n",
            "Epoch 72/100\n",
            "315/315 [==============================] - 1s 4ms/step - loss: 5.0480e-04\n",
            "Epoch 73/100\n",
            "315/315 [==============================] - 1s 4ms/step - loss: 4.2642e-04\n",
            "Epoch 74/100\n",
            "315/315 [==============================] - 1s 4ms/step - loss: 4.2795e-04\n",
            "Epoch 75/100\n",
            "315/315 [==============================] - 1s 4ms/step - loss: 4.4596e-04\n",
            "Epoch 76/100\n",
            "315/315 [==============================] - 1s 4ms/step - loss: 4.6036e-04\n",
            "Epoch 77/100\n",
            "315/315 [==============================] - 2s 7ms/step - loss: 4.7473e-04\n",
            "Epoch 78/100\n",
            "315/315 [==============================] - 2s 7ms/step - loss: 4.0984e-04\n",
            "Epoch 79/100\n",
            "315/315 [==============================] - 1s 4ms/step - loss: 4.5495e-04\n",
            "Epoch 80/100\n",
            "315/315 [==============================] - 1s 4ms/step - loss: 4.6308e-04\n",
            "Epoch 81/100\n",
            "315/315 [==============================] - 1s 5ms/step - loss: 4.8133e-04\n",
            "Epoch 82/100\n",
            "315/315 [==============================] - 1s 4ms/step - loss: 4.6664e-04\n",
            "Epoch 83/100\n",
            "315/315 [==============================] - 1s 4ms/step - loss: 4.3012e-04\n",
            "Epoch 84/100\n",
            "315/315 [==============================] - 1s 4ms/step - loss: 4.5248e-04\n",
            "Epoch 85/100\n",
            "315/315 [==============================] - 1s 4ms/step - loss: 4.0046e-04\n",
            "Epoch 86/100\n",
            "315/315 [==============================] - 1s 4ms/step - loss: 4.3767e-04\n",
            "Epoch 87/100\n",
            "315/315 [==============================] - 1s 4ms/step - loss: 4.3862e-04\n",
            "Epoch 88/100\n",
            "315/315 [==============================] - 1s 5ms/step - loss: 4.0933e-04\n",
            "Epoch 89/100\n",
            "315/315 [==============================] - 1s 4ms/step - loss: 4.6992e-04\n",
            "Epoch 90/100\n",
            "315/315 [==============================] - 1s 4ms/step - loss: 4.2184e-04\n",
            "Epoch 91/100\n",
            "315/315 [==============================] - 1s 4ms/step - loss: 4.3354e-04\n",
            "Epoch 92/100\n",
            "315/315 [==============================] - 1s 4ms/step - loss: 4.2380e-04\n",
            "Epoch 93/100\n",
            "315/315 [==============================] - 1s 4ms/step - loss: 4.4834e-04\n",
            "Epoch 94/100\n",
            "315/315 [==============================] - 1s 4ms/step - loss: 4.3978e-04\n",
            "Epoch 95/100\n",
            "315/315 [==============================] - 1s 4ms/step - loss: 4.4265e-04\n",
            "Epoch 96/100\n",
            "315/315 [==============================] - 2s 6ms/step - loss: 4.8298e-04\n",
            "Epoch 97/100\n",
            "315/315 [==============================] - 2s 7ms/step - loss: 3.7020e-04\n",
            "Epoch 98/100\n",
            "315/315 [==============================] - 1s 4ms/step - loss: 4.2204e-04\n",
            "Epoch 99/100\n",
            "315/315 [==============================] - 1s 5ms/step - loss: 4.5669e-04\n",
            "Epoch 100/100\n",
            "315/315 [==============================] - 1s 5ms/step - loss: 3.9112e-04\n",
            "Model: \"sequential_2\"\n",
            "_________________________________________________________________\n",
            " Layer (type)                Output Shape              Param #   \n",
            "=================================================================\n",
            " lstm_5 (LSTM)               (None, 100)               40800     \n",
            "                                                                 \n",
            " dense_1 (Dense)             (None, 1)                 101       \n",
            "                                                                 \n",
            "=================================================================\n",
            "Total params: 40,901\n",
            "Trainable params: 40,901\n",
            "Non-trainable params: 0\n",
            "_________________________________________________________________\n",
            "None\n"
          ]
        }
      ]
    },
    {
      "cell_type": "code",
      "source": [
        "test_set = pd.read_csv('/content/drive/MyDrive/StockPrice_prediction/Starbucks_Stock_2019_test.csv')\n",
        "test_set = test_set.iloc[::-1]\n",
        "real_stock_price = test_set.iloc[:,1:2].values\n",
        "inputs = real_stock_price\n",
        "inputs = scaler.transform(inputs)\n",
        "inputs = np.reshape(inputs, (7, 1, 1))\n",
        "predicted_stock_price = model.predict(inputs)\n",
        "predicted_stock_price = scaler.inverse_transform(predicted_stock_price)"
      ],
      "metadata": {
        "colab": {
          "base_uri": "https://localhost:8080/"
        },
        "id": "pwr0XyejgHwY",
        "outputId": "7a5ad3d1-032d-4db9-b714-89fb900ffe34"
      },
      "execution_count": 18,
      "outputs": [
        {
          "output_type": "stream",
          "name": "stdout",
          "text": [
            "1/1 [==============================] - 0s 16ms/step\n"
          ]
        }
      ]
    },
    {
      "cell_type": "code",
      "source": [
        "plt.plot(real_stock_price, color = 'red', label = 'Real Stock Price')\n",
        "plt.plot(predicted_stock_price, color = 'blue', label = 'Predicted Stock Price')\n",
        "plt.title('Open Stock Price Prediction')\n",
        "plt.xlabel('Time')\n",
        "plt.ylabel('Stock Price')\n",
        "plt.legend()\n",
        "plt.show()"
      ],
      "metadata": {
        "colab": {
          "base_uri": "https://localhost:8080/",
          "height": 295
        },
        "id": "ebV1co_zgacK",
        "outputId": "d9ba554c-4483-421b-b93c-9e4c404ad740"
      },
      "execution_count": 19,
      "outputs": [
        {
          "output_type": "display_data",
          "data": {
            "text/plain": [
              "<Figure size 432x288 with 1 Axes>"
            ],
            "image/png": "[encoded data removed]"
          },
          "metadata": {
            "needs_background": "light"
          }
        }
      ]
    },
    {
      "cell_type": "code",
      "source": [
        "# Making predictions for the entire dataset\n",
        "# Getting the real stock price of 2017 - 2021\n",
        "real_stock_price_train = pd.read_csv('/content/drive/MyDrive/StockPrice_prediction/Starbucks_Stock_2014_2018.csv')\n",
        "real_stock_price_train = real_stock_price_train.iloc[::-1]\n",
        "real_stock_price_train = real_stock_price_train.iloc[:,1:2].values\n",
        "\n",
        "# Getting the predicted stock price of 2017 - 2021\n",
        "predicted_stock_price_train = model.predict(X_train)\n",
        "predicted_stock_price_train = scaler.inverse_transform(predicted_stock_price_train)\n",
        "\n",
        "# Visualising the results\n",
        "plt.plot(real_stock_price_train, color = 'red', label = 'Stock Price')\n",
        "plt.plot(predicted_stock_price_train, color = 'blue', label = 'Predicted Stock Price')\n",
        "plt.title('Stock Price Prediction')\n",
        "plt.xlabel('Time')\n",
        "plt.ylabel('Stock Price')\n",
        "plt.legend()\n",
        "plt.show()"
      ],
      "metadata": {
        "colab": {
          "base_uri": "https://localhost:8080/",
          "height": 312
        },
        "id": "9dOIew-sgfUi",
        "outputId": "8a0e95ed-ed7f-43ac-9628-394dbd3a2371"
      },
      "execution_count": 22,
      "outputs": [
        {
          "output_type": "stream",
          "name": "stdout",
          "text": [
            "40/40 [==============================] - 0s 3ms/step\n"
          ]
        },
        {
          "output_type": "display_data",
          "data": {
            "text/plain": [
              "<Figure size 432x288 with 1 Axes>"
            ],
            "image/png": "[encoded data removed]"
          },
          "metadata": {
            "needs_background": "light"
          }
        }
      ]
    },
    {
      "cell_type": "code",
      "source": [
        "import math\n",
        "from sklearn.metrics import mean_squared_error\n",
        "rmse = math.sqrt(mean_squared_error(real_stock_price, predicted_stock_price))"
      ],
      "metadata": {
        "id": "hLiPYt2FghmR"
      },
      "execution_count": 23,
      "outputs": []
    }
  ]
}