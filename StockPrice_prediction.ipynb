{
  "nbformat": 4,
  "nbformat_minor": 0,
  "metadata": {
    "colab": {
      "provenance": [],
      "authorship_tag": "ABX9TyNCOtWs5RrKRXh+qaz4w6OM",
      "include_colab_link": true
    },
    "kernelspec": {
      "name": "python3",
      "display_name": "Python 3"
    },
    "language_info": {
      "name": "python"
    },
    "accelerator": "GPU",
    "gpuClass": "standard"
  },
  "cells": [
    {
      "cell_type": "markdown",
      "metadata": {
        "id": "view-in-github",
        "colab_type": "text"
      },
      "source": [
        "<a href=\"https://colab.research.google.com/github/monjjjjj/stockprice_prediction/blob/main/StockPrice_prediction.ipynb\" target=\"_parent\"><img src=\"https://colab.research.google.com/assets/colab-badge.svg\" alt=\"Open In Colab\"/></a>"
      ]
    },
    {
      "cell_type": "code",
      "execution_count": 1,
      "metadata": {
        "id": "5kEO_p0Hf9Hc"
      },
      "outputs": [],
      "source": [
        "import numpy as np # linear algebra\n",
        "import pandas as pd # data processing, CSV file I/O (e.g. pd.read_csv)\n",
        "from matplotlib import pyplot as plt\n",
        "from sklearn.preprocessing import MinMaxScaler, StandardScaler\n",
        "from keras.models import Sequential\n",
        "from keras.layers import Dense\n",
        "from keras.layers import LSTM\n",
        "from keras.layers import Dropout\n",
        "from google.colab import drive"
      ]
    },
    {
      "cell_type": "code",
      "source": [
        "drive.mount('/content/drive')"
      ],
      "metadata": {
        "colab": {
          "base_uri": "https://localhost:8080/"
        },
        "id": "rfvM1_RbgIPZ",
        "outputId": "a9b52106-06a4-46b7-970b-e4992f4a5b22"
      },
      "execution_count": 2,
      "outputs": [
        {
          "output_type": "stream",
          "name": "stdout",
          "text": [
            "Mounted at /content/drive\n"
          ]
        }
      ]
    },
    {
      "cell_type": "code",
      "source": [
        "training_set = pd.read_csv('/content/drive/MyDrive/StockPrice_prediction/Starbucks_Stock_2014_2018.csv')\n",
        "#training_set.head()\n",
        "\n",
        "training_set[\"Date\"] = pd.to_datetime(training_set[\"Date\"])\n",
        "training_set[\"year\"] = training_set[\"Date\"].dt.year\n",
        "training_set[\"month\"] = training_set[\"Date\"].dt.month\n",
        "training_set[\"date\"] = training_set[\"Date\"].dt.day\n",
        "training_set[\"day\"] = training_set[\"Date\"].dt.dayofweek\n",
        "#training_set.head()\n",
        "\n",
        "training_set =  training_set.drop([\"Date\"], axis=1)\n",
        "#training_set.head()\n",
        "\n",
        "training_set = training_set.iloc[::-1]\n",
        "#training_set.head()"
      ],
      "metadata": {
        "id": "16JUpDShgILb"
      },
      "execution_count": 3,
      "outputs": []
    },
    {
      "cell_type": "code",
      "source": [
        "#training_set = training_set.iloc[:, 1:2].values\n",
        "#print(training_set)\n",
        "#print(len(training_set))"
      ],
      "metadata": {
        "id": "uwgh3hnxgIHA"
      },
      "execution_count": 35,
      "outputs": []
    },
    {
      "cell_type": "code",
      "source": [
        "training_set = training_set.iloc[:, 1:2].values\n",
        "\n",
        "scaler = MinMaxScaler()\n",
        "training_set = scaler.fit_transform(training_set)\n",
        "\n",
        "X_train = training_set[0:1257]\n",
        "y_train = training_set[1:1258]\n",
        "X_train = np.reshape(X_train, (1257, 1, 1))\n",
        "print(X_train.shape[1])"
      ],
      "metadata": {
        "id": "9V3deQSCgIAL",
        "colab": {
          "base_uri": "https://localhost:8080/"
        },
        "outputId": "168bed1d-f01a-4ccc-9351-0822d695695e"
      },
      "execution_count": 4,
      "outputs": [
        {
          "output_type": "stream",
          "name": "stdout",
          "text": [
            "1\n"
          ]
        }
      ]
    },
    {
      "cell_type": "code",
      "source": [
        "model = Sequential()\n",
        "model.add(LSTM(units = 100, activation = 'sigmoid', input_shape = (None, 1)))\n",
        "model.add(Dense(units = 1))\n",
        "model.compile(optimizer = 'adam', loss = 'mean_squared_error')\n",
        "model.fit(X_train, y_train, batch_size = 4, epochs = 100)\n",
        "\n",
        "print(model.summary())"
      ],
      "metadata": {
        "colab": {
          "base_uri": "https://localhost:8080/"
        },
        "id": "bhowo89cgH4U",
        "outputId": "414868ff-d522-41f6-9199-07f5958b2db7"
      },
      "execution_count": 5,
      "outputs": [
        {
          "output_type": "stream",
          "name": "stderr",
          "text": [
            "WARNING:tensorflow:Layer lstm will not use cuDNN kernels since it doesn't meet the criteria. It will use a generic GPU kernel as fallback when running on GPU.\n"
          ]
        },
        {
          "output_type": "stream",
          "name": "stdout",
          "text": [
            "Epoch 1/100\n",
            "315/315 [==============================] - 4s 4ms/step - loss: 0.1420\n",
            "Epoch 2/100\n",
            "315/315 [==============================] - 1s 4ms/step - loss: 0.0331\n",
            "Epoch 3/100\n",
            "315/315 [==============================] - 1s 5ms/step - loss: 0.0167\n",
            "Epoch 4/100\n",
            "315/315 [==============================] - 1s 5ms/step - loss: 0.0060\n",
            "Epoch 5/100\n",
            "315/315 [==============================] - 1s 4ms/step - loss: 0.0015\n",
            "Epoch 6/100\n",
            "315/315 [==============================] - 1s 4ms/step - loss: 5.0127e-04\n",
            "Epoch 7/100\n",
            "315/315 [==============================] - 2s 7ms/step - loss: 3.7213e-04\n",
            "Epoch 8/100\n",
            "315/315 [==============================] - 2s 7ms/step - loss: 3.6511e-04\n",
            "Epoch 9/100\n",
            "315/315 [==============================] - 1s 4ms/step - loss: 3.7129e-04\n",
            "Epoch 10/100\n",
            "315/315 [==============================] - 1s 4ms/step - loss: 3.7747e-04\n",
            "Epoch 11/100\n",
            "315/315 [==============================] - 1s 4ms/step - loss: 3.7042e-04\n",
            "Epoch 12/100\n",
            "315/315 [==============================] - 1s 4ms/step - loss: 3.9617e-04\n",
            "Epoch 13/100\n",
            "315/315 [==============================] - 1s 4ms/step - loss: 3.7474e-04\n",
            "Epoch 14/100\n",
            "315/315 [==============================] - 1s 4ms/step - loss: 3.9125e-04\n",
            "Epoch 15/100\n",
            "315/315 [==============================] - 1s 4ms/step - loss: 4.1865e-04\n",
            "Epoch 16/100\n",
            "315/315 [==============================] - 1s 4ms/step - loss: 4.0702e-04\n",
            "Epoch 17/100\n",
            "315/315 [==============================] - 1s 4ms/step - loss: 3.9252e-04\n",
            "Epoch 18/100\n",
            "315/315 [==============================] - 1s 4ms/step - loss: 4.5200e-04\n",
            "Epoch 19/100\n",
            "315/315 [==============================] - 1s 4ms/step - loss: 4.5155e-04\n",
            "Epoch 20/100\n",
            "315/315 [==============================] - 1s 4ms/step - loss: 4.5006e-04\n",
            "Epoch 21/100\n",
            "315/315 [==============================] - 1s 4ms/step - loss: 4.1487e-04\n",
            "Epoch 22/100\n",
            "315/315 [==============================] - 1s 4ms/step - loss: 4.5408e-04\n",
            "Epoch 23/100\n",
            "315/315 [==============================] - 1s 4ms/step - loss: 4.7515e-04\n",
            "Epoch 24/100\n",
            "315/315 [==============================] - 1s 4ms/step - loss: 4.1470e-04\n",
            "Epoch 25/100\n",
            "315/315 [==============================] - 1s 4ms/step - loss: 4.6075e-04\n",
            "Epoch 26/100\n",
            "315/315 [==============================] - 1s 4ms/step - loss: 5.0404e-04\n",
            "Epoch 27/100\n",
            "315/315 [==============================] - 1s 4ms/step - loss: 6.5228e-04\n",
            "Epoch 28/100\n",
            "315/315 [==============================] - 1s 4ms/step - loss: 4.0001e-04\n",
            "Epoch 29/100\n",
            "315/315 [==============================] - 1s 4ms/step - loss: 4.1611e-04\n",
            "Epoch 30/100\n",
            "315/315 [==============================] - 1s 4ms/step - loss: 4.1568e-04\n",
            "Epoch 31/100\n",
            "315/315 [==============================] - 1s 4ms/step - loss: 4.5735e-04\n",
            "Epoch 32/100\n",
            "315/315 [==============================] - 1s 4ms/step - loss: 4.1026e-04\n",
            "Epoch 33/100\n",
            "315/315 [==============================] - 1s 4ms/step - loss: 4.4630e-04\n",
            "Epoch 34/100\n",
            "315/315 [==============================] - 1s 4ms/step - loss: 4.6343e-04\n",
            "Epoch 35/100\n",
            "315/315 [==============================] - 1s 4ms/step - loss: 4.8366e-04\n",
            "Epoch 36/100\n",
            "315/315 [==============================] - 1s 4ms/step - loss: 4.2237e-04\n",
            "Epoch 37/100\n",
            "315/315 [==============================] - 2s 7ms/step - loss: 4.3263e-04\n",
            "Epoch 38/100\n",
            "315/315 [==============================] - 2s 8ms/step - loss: 4.7388e-04\n",
            "Epoch 39/100\n",
            "315/315 [==============================] - 1s 4ms/step - loss: 4.4242e-04\n",
            "Epoch 40/100\n",
            "315/315 [==============================] - 1s 4ms/step - loss: 4.9771e-04\n",
            "Epoch 41/100\n",
            "315/315 [==============================] - 1s 4ms/step - loss: 4.4770e-04\n",
            "Epoch 42/100\n",
            "315/315 [==============================] - 2s 7ms/step - loss: 4.4127e-04\n",
            "Epoch 43/100\n",
            "315/315 [==============================] - 2s 5ms/step - loss: 4.8807e-04\n",
            "Epoch 44/100\n",
            "315/315 [==============================] - 1s 4ms/step - loss: 4.3502e-04\n",
            "Epoch 45/100\n",
            "315/315 [==============================] - 2s 6ms/step - loss: 4.3078e-04\n",
            "Epoch 46/100\n",
            "315/315 [==============================] - 3s 8ms/step - loss: 4.8346e-04\n",
            "Epoch 47/100\n",
            "315/315 [==============================] - 2s 5ms/step - loss: 3.9779e-04\n",
            "Epoch 48/100\n",
            "315/315 [==============================] - 2s 7ms/step - loss: 4.8874e-04\n",
            "Epoch 49/100\n",
            "315/315 [==============================] - 2s 6ms/step - loss: 4.6250e-04\n",
            "Epoch 50/100\n",
            "315/315 [==============================] - 1s 4ms/step - loss: 4.5306e-04\n",
            "Epoch 51/100\n",
            "315/315 [==============================] - 1s 4ms/step - loss: 4.4651e-04\n",
            "Epoch 52/100\n",
            "315/315 [==============================] - 1s 4ms/step - loss: 4.3936e-04\n",
            "Epoch 53/100\n",
            "315/315 [==============================] - 1s 4ms/step - loss: 4.5391e-04\n",
            "Epoch 54/100\n",
            "315/315 [==============================] - 1s 4ms/step - loss: 4.4923e-04\n",
            "Epoch 55/100\n",
            "315/315 [==============================] - 1s 4ms/step - loss: 4.4212e-04\n",
            "Epoch 56/100\n",
            "315/315 [==============================] - 1s 4ms/step - loss: 4.5997e-04\n",
            "Epoch 57/100\n",
            "315/315 [==============================] - 1s 4ms/step - loss: 4.0871e-04\n",
            "Epoch 58/100\n",
            "315/315 [==============================] - 1s 4ms/step - loss: 4.0838e-04\n",
            "Epoch 59/100\n",
            "315/315 [==============================] - 1s 4ms/step - loss: 4.3027e-04\n",
            "Epoch 60/100\n",
            "315/315 [==============================] - 1s 4ms/step - loss: 4.4358e-04\n",
            "Epoch 61/100\n",
            "315/315 [==============================] - 1s 4ms/step - loss: 4.6273e-04\n",
            "Epoch 62/100\n",
            "315/315 [==============================] - 1s 4ms/step - loss: 4.3431e-04\n",
            "Epoch 63/100\n",
            "315/315 [==============================] - 1s 4ms/step - loss: 4.5050e-04\n",
            "Epoch 64/100\n",
            "315/315 [==============================] - 2s 6ms/step - loss: 4.2277e-04\n",
            "Epoch 65/100\n",
            "315/315 [==============================] - 3s 8ms/step - loss: 4.6361e-04\n",
            "Epoch 66/100\n",
            "315/315 [==============================] - 1s 4ms/step - loss: 4.3801e-04\n",
            "Epoch 68/100\n",
            "315/315 [==============================] - 1s 4ms/step - loss: 4.7754e-04\n",
            "Epoch 69/100\n",
            "315/315 [==============================] - 1s 4ms/step - loss: 4.0069e-04\n",
            "Epoch 70/100\n",
            "315/315 [==============================] - 1s 4ms/step - loss: 4.8962e-04\n",
            "Epoch 71/100\n",
            "315/315 [==============================] - 1s 4ms/step - loss: 4.1718e-04\n",
            "Epoch 72/100\n",
            "315/315 [==============================] - 1s 4ms/step - loss: 4.3438e-04\n",
            "Epoch 73/100\n",
            "315/315 [==============================] - 1s 4ms/step - loss: 4.4851e-04\n",
            "Epoch 74/100\n",
            "315/315 [==============================] - 1s 4ms/step - loss: 4.0836e-04\n",
            "Epoch 75/100\n",
            "315/315 [==============================] - 1s 4ms/step - loss: 3.9909e-04\n",
            "Epoch 76/100\n",
            "315/315 [==============================] - 1s 4ms/step - loss: 4.5191e-04\n",
            "Epoch 77/100\n",
            "315/315 [==============================] - 1s 4ms/step - loss: 4.3353e-04\n",
            "Epoch 78/100\n",
            "315/315 [==============================] - 1s 4ms/step - loss: 3.9909e-04\n",
            "Epoch 79/100\n",
            "315/315 [==============================] - 1s 4ms/step - loss: 4.1393e-04\n",
            "Epoch 80/100\n",
            "315/315 [==============================] - 1s 4ms/step - loss: 4.2378e-04\n",
            "Epoch 81/100\n",
            "315/315 [==============================] - 1s 4ms/step - loss: 3.9871e-04\n",
            "Epoch 82/100\n",
            "315/315 [==============================] - 1s 4ms/step - loss: 4.3183e-04\n",
            "Epoch 83/100\n",
            "315/315 [==============================] - 1s 4ms/step - loss: 4.3747e-04\n",
            "Epoch 84/100\n",
            "315/315 [==============================] - 1s 4ms/step - loss: 4.5484e-04\n",
            "Epoch 85/100\n",
            "315/315 [==============================] - 1s 4ms/step - loss: 4.2229e-04\n",
            "Epoch 86/100\n",
            "315/315 [==============================] - 1s 4ms/step - loss: 4.6459e-04\n",
            "Epoch 87/100\n",
            "315/315 [==============================] - 1s 4ms/step - loss: 4.1959e-04\n",
            "Epoch 88/100\n",
            "315/315 [==============================] - 1s 4ms/step - loss: 4.7032e-04\n",
            "Epoch 89/100\n",
            "315/315 [==============================] - 1s 4ms/step - loss: 4.3783e-04\n",
            "Epoch 90/100\n",
            "315/315 [==============================] - 1s 4ms/step - loss: 3.8693e-04\n",
            "Epoch 91/100\n",
            "315/315 [==============================] - 1s 4ms/step - loss: 4.3367e-04\n",
            "Epoch 92/100\n",
            "315/315 [==============================] - 1s 4ms/step - loss: 4.3443e-04\n",
            "Epoch 93/100\n",
            "315/315 [==============================] - 1s 4ms/step - loss: 4.7190e-04\n",
            "Epoch 94/100\n",
            "315/315 [==============================] - 2s 6ms/step - loss: 4.6115e-04\n",
            "Epoch 95/100\n",
            "315/315 [==============================] - 3s 8ms/step - loss: 4.3946e-04\n",
            "Epoch 96/100\n",
            "315/315 [==============================] - 1s 4ms/step - loss: 4.3794e-04\n",
            "Epoch 97/100\n",
            "315/315 [==============================] - 1s 4ms/step - loss: 4.5772e-04\n",
            "Epoch 98/100\n",
            "315/315 [==============================] - 1s 4ms/step - loss: 4.6045e-04\n",
            "Epoch 99/100\n",
            "315/315 [==============================] - 1s 5ms/step - loss: 4.2154e-04\n",
            "Epoch 100/100\n",
            "315/315 [==============================] - 1s 4ms/step - loss: 4.6887e-04\n",
            "Model: \"sequential\"\n",
            "_________________________________________________________________\n",
            " Layer (type)                Output Shape              Param #   \n",
            "=================================================================\n",
            " lstm (LSTM)                 (None, 100)               40800     \n",
            "                                                                 \n",
            " dense (Dense)               (None, 1)                 101       \n",
            "                                                                 \n",
            "=================================================================\n",
            "Total params: 40,901\n",
            "Trainable params: 40,901\n",
            "Non-trainable params: 0\n",
            "_________________________________________________________________\n",
            "None\n"
          ]
        }
      ]
    },
    {
      "cell_type": "code",
      "source": [
        "test_set = pd.read_csv('/content/drive/MyDrive/StockPrice_prediction/Starbucks_Stock_2019_test.csv')\n",
        "test_set = test_set.iloc[::-1]\n",
        "real_stock_price = test_set.iloc[:,1:2].values\n",
        "inputs = real_stock_price\n",
        "inputs = scaler.transform(inputs)\n",
        "inputs = np.reshape(inputs, (7, 1, 1))\n",
        "predicted_stock_price = model.predict(inputs)\n",
        "predicted_stock_price = scaler.inverse_transform(predicted_stock_price)"
      ],
      "metadata": {
        "colab": {
          "base_uri": "https://localhost:8080/"
        },
        "id": "pwr0XyejgHwY",
        "outputId": "7efc3bfc-3165-49e4-a68e-1ff17267dbbc"
      },
      "execution_count": 6,
      "outputs": [
        {
          "output_type": "stream",
          "name": "stdout",
          "text": [
            "1/1 [==============================] - 0s 155ms/step\n"
          ]
        }
      ]
    },
    {
      "cell_type": "code",
      "source": [
        "plt.plot(real_stock_price, color = 'red', label = 'Real Stock Price')\n",
        "plt.plot(predicted_stock_price, color = 'blue', label = 'Predicted Stock Price')\n",
        "plt.title('Open Stock Price Prediction')\n",
        "plt.xlabel('Time')\n",
        "plt.ylabel('Stock Price')\n",
        "plt.legend()\n",
        "plt.show()"
      ],
      "metadata": {
        "colab": {
          "base_uri": "https://localhost:8080/",
          "height": 295
        },
        "id": "ebV1co_zgacK",
        "outputId": "dc5ad14e-a635-4025-fa5c-7c38008e4316"
      },
      "execution_count": 7,
      "outputs": [
        {
          "output_type": "display_data",
          "data": {
            "text/plain": [
              "<Figure size 432x288 with 1 Axes>"
            ],
            "image/png": "[encoded data removed]"
          },
          "metadata": {
            "needs_background": "light"
          }
        }
      ]
    },
    {
      "cell_type": "code",
      "source": [
        "# Making predictions for the entire dataset\n",
        "# Getting the real stock price of 2017 - 2021\n",
        "real_stock_price_train = pd.read_csv('/content/drive/MyDrive/StockPrice_prediction/Starbucks_Stock_2014_2018.csv')\n",
        "real_stock_price_train = real_stock_price_train.iloc[::-1]\n",
        "real_stock_price_train = real_stock_price_train.iloc[:,1:2].values\n",
        "\n",
        "# Getting the predicted stock price of 2017 - 2021\n",
        "predicted_stock_price_train = model.predict(X_train)\n",
        "predicted_stock_price_train = scaler.inverse_transform(predicted_stock_price_train)\n",
        "\n",
        "# Visualising the results\n",
        "plt.plot(real_stock_price_train, color = 'red', label = 'Stock Price')\n",
        "plt.plot(predicted_stock_price_train, color = 'blue', label = 'Predicted Stock Price')\n",
        "plt.title('Stock Price Prediction')\n",
        "plt.xlabel('Time')\n",
        "plt.ylabel('Stock Price')\n",
        "plt.legend()\n",
        "plt.show()"
      ],
      "metadata": {
        "colab": {
          "base_uri": "https://localhost:8080/",
          "height": 312
        },
        "id": "9dOIew-sgfUi",
        "outputId": "87bd87fb-152a-4edd-a44e-21eb7919d308"
      },
      "execution_count": 8,
      "outputs": [
        {
          "output_type": "stream",
          "name": "stdout",
          "text": [
            "40/40 [==============================] - 0s 2ms/step\n"
          ]
        },
        {
          "output_type": "display_data",
          "data": {
            "text/plain": [
              "<Figure size 432x288 with 1 Axes>"
            ],
            "image/png": "[encoded data removed]"
          },
          "metadata": {
            "needs_background": "light"
          }
        }
      ]
    },
    {
      "cell_type": "code",
      "source": [
        "import math\n",
        "from sklearn.metrics import mean_squared_error\n",
        "rmse = math.sqrt(mean_squared_error(real_stock_price, predicted_stock_price))"
      ],
      "metadata": {
        "id": "hLiPYt2FghmR"
      },
      "execution_count": 9,
      "outputs": []
    }
  ]
}