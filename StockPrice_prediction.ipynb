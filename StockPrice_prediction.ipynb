{
  "nbformat": 4,
  "nbformat_minor": 0,
  "metadata": {
    "colab": {
      "provenance": [],
      "authorship_tag": "ABX9TyMxIs8uRzB1MWtUFeOTFk0c",
      "include_colab_link": true
    },
    "kernelspec": {
      "name": "python3",
      "display_name": "Python 3"
    },
    "language_info": {
      "name": "python"
    },
    "accelerator": "GPU",
    "gpuClass": "standard"
  },
  "cells": [
    {
      "cell_type": "markdown",
      "metadata": {
        "id": "view-in-github",
        "colab_type": "text"
      },
      "source": [
        "<a href=\"https://colab.research.google.com/github/monjjjjj/stockprice_prediction/blob/main/StockPrice_prediction.ipynb\" target=\"_parent\"><img src=\"https://colab.research.google.com/assets/colab-badge.svg\" alt=\"Open In Colab\"/></a>"
      ]
    },
    {
      "cell_type": "code",
      "execution_count": 1,
      "metadata": {
        "id": "5kEO_p0Hf9Hc"
      },
      "outputs": [],
      "source": [
        "import numpy as np # linear algebra\n",
        "import pandas as pd # data processing, CSV file I/O (e.g. pd.read_csv)\n",
        "from matplotlib import pyplot as plt\n",
        "from sklearn.preprocessing import MinMaxScaler, StandardScaler\n",
        "from keras.models import Sequential\n",
        "from keras.layers import Dense\n",
        "from keras.layers import LSTM\n",
        "from keras.layers import Dropout\n",
        "from google.colab import drive"
      ]
    },
    {
      "cell_type": "code",
      "source": [
        "drive.mount('/content/drive')"
      ],
      "metadata": {
        "colab": {
          "base_uri": "https://localhost:8080/"
        },
        "id": "rfvM1_RbgIPZ",
        "outputId": "2573638d-a718-4cbb-d884-203f35d67fc3"
      },
      "execution_count": 2,
      "outputs": [
        {
          "output_type": "stream",
          "name": "stdout",
          "text": [
            "Mounted at /content/drive\n"
          ]
        }
      ]
    },
    {
      "cell_type": "code",
      "source": [
        "training_set = pd.read_csv('/content/drive/MyDrive/StockPrice_prediction/Starbucks_Stock_2014_2018.csv')\n",
        "#training_set.head()\n",
        "\n",
        "training_set[\"Date\"] = pd.to_datetime(training_set[\"Date\"])\n",
        "training_set[\"year\"] = training_set[\"Date\"].dt.year\n",
        "training_set[\"month\"] = training_set[\"Date\"].dt.month\n",
        "training_set[\"date\"] = training_set[\"Date\"].dt.day\n",
        "training_set[\"day\"] = training_set[\"Date\"].dt.dayofweek\n",
        "#training_set.head()\n",
        "\n",
        "training_set =  training_set.drop([\"Date\"], axis=1)\n",
        "#training_set.head()\n",
        "\n",
        "training_set = training_set.iloc[::-1]\n",
        "#training_set.head()"
      ],
      "metadata": {
        "id": "16JUpDShgILb"
      },
      "execution_count": 3,
      "outputs": []
    },
    {
      "cell_type": "code",
      "source": [
        "#training_set = training_set.iloc[:, 1:2].values\n",
        "#print(training_set)\n",
        "#print(len(training_set))"
      ],
      "metadata": {
        "id": "uwgh3hnxgIHA"
      },
      "execution_count": 4,
      "outputs": []
    },
    {
      "cell_type": "code",
      "source": [
        "training_set = training_set.iloc[:, 1:2].values\n",
        "\n",
        "scaler = MinMaxScaler()\n",
        "training_set = scaler.fit_transform(training_set)\n",
        "\n",
        "X_train = training_set[0:1257]\n",
        "y_train = training_set[1:1258]\n",
        "X_train = np.reshape(X_train, (1257, 1, 1))\n",
        "print(X_train.shape[1])"
      ],
      "metadata": {
        "id": "9V3deQSCgIAL",
        "colab": {
          "base_uri": "https://localhost:8080/"
        },
        "outputId": "fc1d1160-a3fd-42a9-e6c8-957b8fc5980e"
      },
      "execution_count": 5,
      "outputs": [
        {
          "output_type": "stream",
          "name": "stdout",
          "text": [
            "1\n"
          ]
        }
      ]
    },
    {
      "cell_type": "code",
      "source": [
        "model = Sequential()\n",
        "model.add(LSTM(units = 16, activation = 'sigmoid', input_shape = (None, 1),return_sequences=True))\n",
        "model.add(Dropout(0.2))\n",
        "model.add(LSTM(units = 4, input_shape = (None, 1), return_sequences=False))\n",
        "model.add(Dropout(0.2))\n",
        "model.add(Dense(units = 1))\n",
        "model.compile(optimizer = 'adam', loss = 'mean_squared_error')\n",
        "model.fit(X_train, y_train, batch_size = 4, epochs = 100)\n",
        "test_set = pd.read_csv(\"/content/drive/MyDrive/StockPrice_prediction/Starbucks_Stock_2019_test.csv\")\n",
        "test_set = test_set.iloc[::-1]\n",
        "real_stock_price = test_set.iloc[:,1:2].values\n",
        "inputs = real_stock_price\n",
        "inputs = scaler.transform(inputs)\n",
        "inputs = np.reshape(inputs, (7, 1, 1))\n",
        "predicted_stock_price = model.predict(inputs)\n",
        "\n",
        "predicted_stock_price = scaler.inverse_transform(predicted_stock_price)"
      ],
      "metadata": {
        "colab": {
          "base_uri": "https://localhost:8080/"
        },
        "id": "bhowo89cgH4U",
        "outputId": "9ad0cce4-02fb-487d-8ad6-f84e0c3fd339"
      },
      "execution_count": 9,
      "outputs": [
        {
          "output_type": "stream",
          "name": "stderr",
          "text": [
            "WARNING:tensorflow:Layer lstm_6 will not use cuDNN kernels since it doesn't meet the criteria. It will use a generic GPU kernel as fallback when running on GPU.\n"
          ]
        },
        {
          "output_type": "stream",
          "name": "stdout",
          "text": [
            "Epoch 1/100\n",
            "315/315 [==============================] - 4s 6ms/step - loss: 0.0932\n",
            "Epoch 2/100\n",
            "315/315 [==============================] - 2s 6ms/step - loss: 0.0701\n",
            "Epoch 3/100\n",
            "315/315 [==============================] - 2s 6ms/step - loss: 0.0657\n",
            "Epoch 4/100\n",
            "315/315 [==============================] - 2s 6ms/step - loss: 0.0584\n",
            "Epoch 5/100\n",
            "315/315 [==============================] - 3s 10ms/step - loss: 0.0563\n",
            "Epoch 6/100\n",
            "315/315 [==============================] - 2s 6ms/step - loss: 0.0429\n",
            "Epoch 7/100\n",
            "315/315 [==============================] - 2s 6ms/step - loss: 0.0364\n",
            "Epoch 8/100\n",
            "315/315 [==============================] - 2s 6ms/step - loss: 0.0295\n",
            "Epoch 9/100\n",
            "315/315 [==============================] - 2s 6ms/step - loss: 0.0257\n",
            "Epoch 10/100\n",
            "315/315 [==============================] - 2s 6ms/step - loss: 0.0239\n",
            "Epoch 11/100\n",
            "315/315 [==============================] - 2s 6ms/step - loss: 0.0211\n",
            "Epoch 12/100\n",
            "315/315 [==============================] - 2s 6ms/step - loss: 0.0193\n",
            "Epoch 13/100\n",
            "315/315 [==============================] - 2s 6ms/step - loss: 0.0168\n",
            "Epoch 14/100\n",
            "315/315 [==============================] - 2s 6ms/step - loss: 0.0152\n",
            "Epoch 15/100\n",
            "315/315 [==============================] - 2s 6ms/step - loss: 0.0148\n",
            "Epoch 16/100\n",
            "315/315 [==============================] - 2s 6ms/step - loss: 0.0155\n",
            "Epoch 17/100\n",
            "315/315 [==============================] - 2s 6ms/step - loss: 0.0125\n",
            "Epoch 18/100\n",
            "315/315 [==============================] - 2s 6ms/step - loss: 0.0130\n",
            "Epoch 19/100\n",
            "315/315 [==============================] - 2s 7ms/step - loss: 0.0126\n",
            "Epoch 20/100\n",
            "315/315 [==============================] - 2s 6ms/step - loss: 0.0114\n",
            "Epoch 21/100\n",
            "315/315 [==============================] - 2s 6ms/step - loss: 0.0115\n",
            "Epoch 22/100\n",
            "315/315 [==============================] - 2s 6ms/step - loss: 0.0110\n",
            "Epoch 23/100\n",
            "315/315 [==============================] - 2s 6ms/step - loss: 0.0105\n",
            "Epoch 24/100\n",
            "315/315 [==============================] - 2s 6ms/step - loss: 0.0097\n",
            "Epoch 25/100\n",
            "315/315 [==============================] - 2s 6ms/step - loss: 0.0102\n",
            "Epoch 26/100\n",
            "315/315 [==============================] - 2s 6ms/step - loss: 0.0094\n",
            "Epoch 27/100\n",
            "315/315 [==============================] - 2s 6ms/step - loss: 0.0098\n",
            "Epoch 28/100\n",
            "315/315 [==============================] - 2s 6ms/step - loss: 0.0091\n",
            "Epoch 29/100\n",
            "315/315 [==============================] - 2s 6ms/step - loss: 0.0090\n",
            "Epoch 30/100\n",
            "315/315 [==============================] - 2s 6ms/step - loss: 0.0084\n",
            "Epoch 31/100\n",
            "315/315 [==============================] - 2s 6ms/step - loss: 0.0088\n",
            "Epoch 32/100\n",
            "315/315 [==============================] - 2s 6ms/step - loss: 0.0086\n",
            "Epoch 33/100\n",
            "315/315 [==============================] - 2s 6ms/step - loss: 0.0083\n",
            "Epoch 34/100\n",
            "315/315 [==============================] - 2s 6ms/step - loss: 0.0076\n",
            "Epoch 35/100\n",
            "315/315 [==============================] - 2s 6ms/step - loss: 0.0074\n",
            "Epoch 36/100\n",
            "315/315 [==============================] - 2s 6ms/step - loss: 0.0082\n",
            "Epoch 37/100\n",
            "315/315 [==============================] - 2s 6ms/step - loss: 0.0080\n",
            "Epoch 38/100\n",
            "315/315 [==============================] - 3s 9ms/step - loss: 0.0078\n",
            "Epoch 39/100\n",
            "315/315 [==============================] - 2s 6ms/step - loss: 0.0077\n",
            "Epoch 40/100\n",
            "315/315 [==============================] - 2s 6ms/step - loss: 0.0073\n",
            "Epoch 41/100\n",
            "315/315 [==============================] - 2s 6ms/step - loss: 0.0075\n",
            "Epoch 42/100\n",
            "315/315 [==============================] - 2s 6ms/step - loss: 0.0079\n",
            "Epoch 43/100\n",
            "315/315 [==============================] - 2s 6ms/step - loss: 0.0068\n",
            "Epoch 44/100\n",
            "315/315 [==============================] - 2s 6ms/step - loss: 0.0075\n",
            "Epoch 45/100\n",
            "315/315 [==============================] - 2s 6ms/step - loss: 0.0070\n",
            "Epoch 46/100\n",
            "315/315 [==============================] - 2s 6ms/step - loss: 0.0078\n",
            "Epoch 47/100\n",
            "315/315 [==============================] - 2s 6ms/step - loss: 0.0065\n",
            "Epoch 48/100\n",
            "315/315 [==============================] - 2s 6ms/step - loss: 0.0075\n",
            "Epoch 49/100\n",
            "315/315 [==============================] - 2s 6ms/step - loss: 0.0073\n",
            "Epoch 50/100\n",
            "315/315 [==============================] - 2s 6ms/step - loss: 0.0069\n",
            "Epoch 51/100\n",
            "315/315 [==============================] - 2s 7ms/step - loss: 0.0061\n",
            "Epoch 52/100\n",
            "315/315 [==============================] - 2s 6ms/step - loss: 0.0070\n",
            "Epoch 53/100\n",
            "315/315 [==============================] - 2s 6ms/step - loss: 0.0076\n",
            "Epoch 54/100\n",
            "315/315 [==============================] - 2s 6ms/step - loss: 0.0066\n",
            "Epoch 55/100\n",
            "315/315 [==============================] - 2s 6ms/step - loss: 0.0071\n",
            "Epoch 56/100\n",
            "315/315 [==============================] - 2s 6ms/step - loss: 0.0068\n",
            "Epoch 57/100\n",
            "315/315 [==============================] - 2s 6ms/step - loss: 0.0070\n",
            "Epoch 58/100\n",
            "315/315 [==============================] - 2s 6ms/step - loss: 0.0063\n",
            "Epoch 59/100\n",
            "315/315 [==============================] - 2s 6ms/step - loss: 0.0063\n",
            "Epoch 60/100\n",
            "315/315 [==============================] - 2s 6ms/step - loss: 0.0067\n",
            "Epoch 61/100\n",
            "315/315 [==============================] - 2s 6ms/step - loss: 0.0066\n",
            "Epoch 62/100\n",
            "315/315 [==============================] - 2s 6ms/step - loss: 0.0067\n",
            "Epoch 63/100\n",
            "315/315 [==============================] - 2s 6ms/step - loss: 0.0061\n",
            "Epoch 64/100\n",
            "315/315 [==============================] - 2s 6ms/step - loss: 0.0069\n",
            "Epoch 65/100\n",
            "315/315 [==============================] - 3s 8ms/step - loss: 0.0073\n",
            "Epoch 66/100\n",
            "315/315 [==============================] - 2s 7ms/step - loss: 0.0067\n",
            "Epoch 67/100\n",
            "315/315 [==============================] - 2s 6ms/step - loss: 0.0067\n",
            "Epoch 68/100\n",
            "315/315 [==============================] - 2s 6ms/step - loss: 0.0066\n",
            "Epoch 69/100\n",
            "315/315 [==============================] - 2s 6ms/step - loss: 0.0059\n",
            "Epoch 70/100\n",
            "315/315 [==============================] - 2s 6ms/step - loss: 0.0066\n",
            "Epoch 71/100\n",
            "315/315 [==============================] - 2s 6ms/step - loss: 0.0061\n",
            "Epoch 72/100\n",
            "315/315 [==============================] - 2s 6ms/step - loss: 0.0066\n",
            "Epoch 73/100\n",
            "315/315 [==============================] - 2s 6ms/step - loss: 0.0069\n",
            "Epoch 74/100\n",
            "315/315 [==============================] - 2s 6ms/step - loss: 0.0060\n",
            "Epoch 75/100\n",
            "315/315 [==============================] - 2s 6ms/step - loss: 0.0064\n",
            "Epoch 76/100\n",
            "315/315 [==============================] - 2s 6ms/step - loss: 0.0068\n",
            "Epoch 77/100\n",
            "315/315 [==============================] - 2s 6ms/step - loss: 0.0063\n",
            "Epoch 78/100\n",
            "315/315 [==============================] - 2s 6ms/step - loss: 0.0062\n",
            "Epoch 79/100\n",
            "315/315 [==============================] - 2s 6ms/step - loss: 0.0065\n",
            "Epoch 80/100\n",
            "315/315 [==============================] - 2s 6ms/step - loss: 0.0066\n",
            "Epoch 81/100\n",
            "315/315 [==============================] - 2s 6ms/step - loss: 0.0057\n",
            "Epoch 82/100\n",
            "315/315 [==============================] - 2s 6ms/step - loss: 0.0063\n",
            "Epoch 83/100\n",
            "315/315 [==============================] - 2s 6ms/step - loss: 0.0063\n",
            "Epoch 84/100\n",
            "315/315 [==============================] - 2s 6ms/step - loss: 0.0064\n",
            "Epoch 85/100\n",
            "315/315 [==============================] - 2s 6ms/step - loss: 0.0060\n",
            "Epoch 86/100\n",
            "315/315 [==============================] - 2s 6ms/step - loss: 0.0063\n",
            "Epoch 87/100\n",
            "315/315 [==============================] - 2s 6ms/step - loss: 0.0063\n",
            "Epoch 88/100\n",
            "315/315 [==============================] - 2s 6ms/step - loss: 0.0062\n",
            "Epoch 89/100\n",
            "315/315 [==============================] - 2s 6ms/step - loss: 0.0067\n",
            "Epoch 90/100\n",
            "315/315 [==============================] - 2s 6ms/step - loss: 0.0058\n",
            "Epoch 91/100\n",
            "315/315 [==============================] - 2s 6ms/step - loss: 0.0061\n",
            "Epoch 92/100\n",
            "315/315 [==============================] - 2s 6ms/step - loss: 0.0064\n",
            "Epoch 93/100\n",
            "315/315 [==============================] - 2s 6ms/step - loss: 0.0064\n",
            "Epoch 94/100\n",
            "315/315 [==============================] - 2s 6ms/step - loss: 0.0061\n",
            "Epoch 95/100\n",
            "315/315 [==============================] - 2s 6ms/step - loss: 0.0059\n",
            "Epoch 96/100\n",
            "315/315 [==============================] - 2s 6ms/step - loss: 0.0063\n",
            "Epoch 97/100\n",
            "315/315 [==============================] - 2s 6ms/step - loss: 0.0057\n",
            "Epoch 98/100\n",
            "315/315 [==============================] - 2s 6ms/step - loss: 0.0056\n",
            "Epoch 99/100\n",
            "315/315 [==============================] - 2s 6ms/step - loss: 0.0057\n",
            "Epoch 100/100\n",
            "315/315 [==============================] - 2s 6ms/step - loss: 0.0058\n",
            "1/1 [==============================] - 0s 450ms/step\n"
          ]
        }
      ]
    },
    {
      "cell_type": "code",
      "source": [
        "test_set = pd.read_csv('/content/drive/MyDrive/StockPrice_prediction/Starbucks_Stock_2019_test.csv')\n",
        "test_set = test_set.iloc[::-1]\n",
        "real_stock_price = test_set.iloc[:,1:2].values\n",
        "inputs = real_stock_price\n",
        "inputs = scaler.transform(inputs)\n",
        "inputs = np.reshape(inputs, (7, 1, 1))\n",
        "predicted_stock_price = model.predict(inputs)\n",
        "predicted_stock_price = scaler.inverse_transform(predicted_stock_price)"
      ],
      "metadata": {
        "id": "pwr0XyejgHwY",
        "colab": {
          "base_uri": "https://localhost:8080/"
        },
        "outputId": "099830a7-130b-45c7-e506-461d9d0d2dc7"
      },
      "execution_count": 10,
      "outputs": [
        {
          "output_type": "stream",
          "name": "stdout",
          "text": [
            "1/1 [==============================] - 0s 16ms/step\n"
          ]
        }
      ]
    },
    {
      "cell_type": "code",
      "source": [
        "plt.plot(real_stock_price, color = 'red', label = 'Real Stock Price')\n",
        "plt.plot(predicted_stock_price, color = 'blue', label = 'Predicted Stock Price')\n",
        "plt.title('Open Stock Price Prediction')\n",
        "plt.xlabel('Time')\n",
        "plt.ylabel('Stock Price')\n",
        "plt.legend()\n",
        "plt.show()"
      ],
      "metadata": {
        "id": "ebV1co_zgacK",
        "colab": {
          "base_uri": "https://localhost:8080/",
          "height": 295
        },
        "outputId": "90b98b4c-d533-4860-a1bd-afc97384734b"
      },
      "execution_count": 11,
      "outputs": [
        {
          "output_type": "display_data",
          "data": {
            "text/plain": [
              "<Figure size 432x288 with 1 Axes>"
            ],
            "image/png": "[encoded data removed]"
          },
          "metadata": {
            "needs_background": "light"
          }
        }
      ]
    },
    {
      "cell_type": "code",
      "source": [
        "# Making predictions for the entire dataset\n",
        "# Getting the real stock price of 2017 - 2021\n",
        "real_stock_price_train = pd.read_csv('/content/drive/MyDrive/StockPrice_prediction/Starbucks_Stock_2014_2018.csv')\n",
        "real_stock_price_train = real_stock_price_train.iloc[::-1]\n",
        "real_stock_price_train = real_stock_price_train.iloc[:,1:2].values\n",
        "\n",
        "# Getting the predicted stock price of 2017 - 2021\n",
        "predicted_stock_price_train = model.predict(X_train)\n",
        "predicted_stock_price_train = scaler.inverse_transform(predicted_stock_price_train)\n",
        "\n",
        "# Visualising the results\n",
        "plt.plot(real_stock_price_train, color = 'red', label = 'Stock Price')\n",
        "plt.plot(predicted_stock_price_train, color = 'blue', label = 'Predicted Stock Price')\n",
        "plt.title('Stock Price Prediction')\n",
        "plt.xlabel('Time')\n",
        "plt.ylabel('Stock Price')\n",
        "plt.legend()\n",
        "plt.show()"
      ],
      "metadata": {
        "id": "9dOIew-sgfUi",
        "colab": {
          "base_uri": "https://localhost:8080/",
          "height": 312
        },
        "outputId": "d8c88e2a-4f40-4274-bc58-1ed733d7de1d"
      },
      "execution_count": 12,
      "outputs": [
        {
          "output_type": "stream",
          "name": "stdout",
          "text": [
            "40/40 [==============================] - 0s 2ms/step\n"
          ]
        },
        {
          "output_type": "display_data",
          "data": {
            "text/plain": [
              "<Figure size 432x288 with 1 Axes>"
            ],
            "image/png": "[encoded data removed]"
          },
          "metadata": {
            "needs_background": "light"
          }
        }
      ]
    },
    {
      "cell_type": "code",
      "source": [
        "import math\n",
        "from sklearn.metrics import mean_squared_error\n",
        "rmse = math.sqrt(mean_squared_error(real_stock_price, predicted_stock_price))"
      ],
      "metadata": {
        "id": "hLiPYt2FghmR"
      },
      "execution_count": 13,
      "outputs": []
    }
  ]
}