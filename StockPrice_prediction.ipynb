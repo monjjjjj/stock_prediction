{
  "nbformat": 4,
  "nbformat_minor": 0,
  "metadata": {
    "colab": {
      "provenance": [],
      "authorship_tag": "ABX9TyPR3yPmwM/skRrWjsFV0e2N",
      "include_colab_link": true
    },
    "kernelspec": {
      "name": "python3",
      "display_name": "Python 3"
    },
    "language_info": {
      "name": "python"
    },
    "accelerator": "GPU",
    "gpuClass": "standard"
  },
  "cells": [
    {
      "cell_type": "markdown",
      "metadata": {
        "id": "view-in-github",
        "colab_type": "text"
      },
      "source": [
        "<a href=\"https://colab.research.google.com/github/monjjjjj/stockprice_prediction/blob/main/StockPrice_prediction.ipynb\" target=\"_parent\"><img src=\"https://colab.research.google.com/assets/colab-badge.svg\" alt=\"Open In Colab\"/></a>"
      ]
    },
    {
      "cell_type": "code",
      "execution_count": null,
      "metadata": {
        "id": "5kEO_p0Hf9Hc"
      },
      "outputs": [],
      "source": [
        "import numpy as np # linear algebra\n",
        "import pandas as pd # data processing, CSV file I/O (e.g. pd.read_csv)\n",
        "from matplotlib import pyplot as plt\n",
        "from sklearn.preprocessing import MinMaxScaler, StandardScaler\n",
        "from keras.models import Sequential\n",
        "from keras.layers import Dense\n",
        "from keras.layers import LSTM\n",
        "from keras.layers import Dropout\n",
        "from google.colab import drive"
      ]
    },
    {
      "cell_type": "code",
      "source": [
        "drive.mount('/content/drive')"
      ],
      "metadata": {
        "colab": {
          "base_uri": "https://localhost:8080/"
        },
        "id": "rfvM1_RbgIPZ",
        "outputId": "4c178777-fdb7-4248-ffdc-f6e7386aaba9"
      },
      "execution_count": null,
      "outputs": [
        {
          "output_type": "stream",
          "name": "stdout",
          "text": [
            "Mounted at /content/drive\n"
          ]
        }
      ]
    },
    {
      "cell_type": "code",
      "source": [
        "training_set = pd.read_csv('/content/drive/MyDrive/StockPrice_prediction/Starbucks_Stock_2014_2018.csv')\n",
        "#training_set.head()\n",
        "\n",
        "training_set[\"Date\"] = pd.to_datetime(training_set[\"Date\"])\n",
        "training_set[\"year\"] = training_set[\"Date\"].dt.year\n",
        "training_set[\"month\"] = training_set[\"Date\"].dt.month\n",
        "training_set[\"date\"] = training_set[\"Date\"].dt.day\n",
        "training_set[\"day\"] = training_set[\"Date\"].dt.dayofweek\n",
        "#training_set.head()\n",
        "\n",
        "training_set =  training_set.drop([\"Date\"], axis=1)\n",
        "#training_set.head()\n",
        "\n",
        "training_set = training_set.iloc[::-1]\n",
        "#training_set.head()"
      ],
      "metadata": {
        "id": "16JUpDShgILb"
      },
      "execution_count": null,
      "outputs": []
    },
    {
      "cell_type": "code",
      "source": [
        "#training_set = training_set.iloc[:, 1:2].values\n",
        "#print(training_set)\n",
        "#print(len(training_set))"
      ],
      "metadata": {
        "id": "uwgh3hnxgIHA"
      },
      "execution_count": null,
      "outputs": []
    },
    {
      "cell_type": "code",
      "source": [
        "training_set = training_set.iloc[:, 1:2].values\n",
        "\n",
        "scaler = MinMaxScaler()\n",
        "training_set = scaler.fit_transform(training_set)\n",
        "\n",
        "X_train = training_set[0:1257]\n",
        "y_train = training_set[1:1258]\n",
        "X_train = np.reshape(X_train, (1257, 1, 1))\n",
        "print(X_train.shape[1])"
      ],
      "metadata": {
        "id": "9V3deQSCgIAL",
        "colab": {
          "base_uri": "https://localhost:8080/"
        },
        "outputId": "241bb78b-e889-45b1-cc12-e66b382af3f4"
      },
      "execution_count": null,
      "outputs": [
        {
          "output_type": "stream",
          "name": "stdout",
          "text": [
            "1\n"
          ]
        }
      ]
    },
    {
      "cell_type": "code",
      "source": [
        "model = Sequential()\n",
        "model.add(LSTM(units = 16, activation = 'sigmoid', input_shape = (None, 1),return_sequences=True))\n",
        "model.add(Dropout(0.2))\n",
        "model.add(LSTM(units = 4, input_shape = (None, 1), return_sequences=False))\n",
        "model.add(Dropout(0.2))\n",
        "model.add(Dense(units = 1))\n",
        "model.compile(optimizer = 'adam', loss = 'mean_squared_error')\n",
        "model.fit(X_train, y_train, batch_size = 4, epochs = 100)\n",
        "test_set = pd.read_csv(\"/content/drive/MyDrive/data/Starbuks_Stock_2019_test.csv\")\n",
        "test_set = test_set.iloc[::-1]\n",
        "real_stock_price = test_set.iloc[:,1:2].values\n",
        "inputs = real_stock_price\n",
        "inputs = sc.transform(inputs)\n",
        "inputs = np.reshape(inputs, (7, 1, 1))\n",
        "predicted_stock_price = model.predict(inputs)\n",
        "\n",
        "predicted_stock_price = sc.inverse_transform(predicted_stock_price)"
      ],
      "metadata": {
        "colab": {
          "base_uri": "https://localhost:8080/"
        },
        "id": "bhowo89cgH4U",
        "outputId": "25badb56-8fdc-4836-cbfe-8a318e844da9"
      },
      "execution_count": null,
      "outputs": [
        {
          "output_type": "stream",
          "name": "stderr",
          "text": [
            "WARNING:tensorflow:Layer lstm will not use cuDNN kernels since it doesn't meet the criteria. It will use a generic GPU kernel as fallback when running on GPU.\n"
          ]
        },
        {
          "output_type": "stream",
          "name": "stdout",
          "text": [
            "Epoch 1/100\n",
            "315/315 [==============================] - 8s 6ms/step - loss: 0.0979\n",
            "Epoch 2/100\n",
            "315/315 [==============================] - 2s 6ms/step - loss: 0.0735\n",
            "Epoch 3/100\n",
            "315/315 [==============================] - 2s 6ms/step - loss: 0.0642\n",
            "Epoch 4/100\n",
            "315/315 [==============================] - 2s 6ms/step - loss: 0.0574\n",
            "Epoch 5/100\n",
            "315/315 [==============================] - 2s 6ms/step - loss: 0.0532\n",
            "Epoch 6/100\n",
            "315/315 [==============================] - 2s 6ms/step - loss: 0.0434\n",
            "Epoch 7/100\n",
            "315/315 [==============================] - 2s 6ms/step - loss: 0.0382\n",
            "Epoch 8/100\n",
            "315/315 [==============================] - 2s 6ms/step - loss: 0.0313\n",
            "Epoch 9/100\n",
            "315/315 [==============================] - 2s 6ms/step - loss: 0.0278\n",
            "Epoch 10/100\n",
            "315/315 [==============================] - 2s 6ms/step - loss: 0.0240\n",
            "Epoch 11/100\n",
            "315/315 [==============================] - 2s 6ms/step - loss: 0.0224\n",
            "Epoch 12/100\n",
            "315/315 [==============================] - 2s 6ms/step - loss: 0.0190\n",
            "Epoch 13/100\n",
            "315/315 [==============================] - 2s 6ms/step - loss: 0.0177\n",
            "Epoch 14/100\n",
            "315/315 [==============================] - 2s 6ms/step - loss: 0.0167\n",
            "Epoch 15/100\n",
            "315/315 [==============================] - 2s 6ms/step - loss: 0.0148\n",
            "Epoch 16/100\n",
            "315/315 [==============================] - 2s 6ms/step - loss: 0.0133\n",
            "Epoch 17/100\n",
            "315/315 [==============================] - 2s 6ms/step - loss: 0.0145\n",
            "Epoch 18/100\n",
            "315/315 [==============================] - 2s 6ms/step - loss: 0.0122\n",
            "Epoch 19/100\n",
            "315/315 [==============================] - 2s 6ms/step - loss: 0.0127\n",
            "Epoch 20/100\n",
            "315/315 [==============================] - 2s 6ms/step - loss: 0.0113\n",
            "Epoch 21/100\n",
            "315/315 [==============================] - 2s 6ms/step - loss: 0.0118\n",
            "Epoch 22/100\n",
            "315/315 [==============================] - 2s 6ms/step - loss: 0.0108\n",
            "Epoch 23/100\n",
            "315/315 [==============================] - 2s 7ms/step - loss: 0.0108\n",
            "Epoch 24/100\n",
            "315/315 [==============================] - 2s 7ms/step - loss: 0.0108\n",
            "Epoch 25/100\n",
            "315/315 [==============================] - 2s 6ms/step - loss: 0.0105\n",
            "Epoch 26/100\n",
            "315/315 [==============================] - 2s 6ms/step - loss: 0.0103\n",
            "Epoch 27/100\n",
            "315/315 [==============================] - 2s 7ms/step - loss: 0.0086\n",
            "Epoch 28/100\n",
            "315/315 [==============================] - 3s 9ms/step - loss: 0.0090\n",
            "Epoch 29/100\n",
            "315/315 [==============================] - 2s 6ms/step - loss: 0.0095\n",
            "Epoch 30/100\n",
            "315/315 [==============================] - 2s 6ms/step - loss: 0.0090\n",
            "Epoch 31/100\n",
            "315/315 [==============================] - 2s 6ms/step - loss: 0.0084\n",
            "Epoch 32/100\n",
            "315/315 [==============================] - 2s 6ms/step - loss: 0.0080\n",
            "Epoch 33/100\n",
            "315/315 [==============================] - 2s 6ms/step - loss: 0.0087\n",
            "Epoch 34/100\n",
            "315/315 [==============================] - 2s 6ms/step - loss: 0.0077\n",
            "Epoch 35/100\n",
            "315/315 [==============================] - 2s 6ms/step - loss: 0.0084\n",
            "Epoch 36/100\n",
            "315/315 [==============================] - 2s 6ms/step - loss: 0.0088\n",
            "Epoch 37/100\n",
            "315/315 [==============================] - 2s 6ms/step - loss: 0.0079\n",
            "Epoch 38/100\n",
            "315/315 [==============================] - 2s 6ms/step - loss: 0.0080\n",
            "Epoch 39/100\n",
            "315/315 [==============================] - 2s 6ms/step - loss: 0.0082\n",
            "Epoch 40/100\n",
            "315/315 [==============================] - 2s 6ms/step - loss: 0.0085\n",
            "Epoch 41/100\n",
            "315/315 [==============================] - 2s 6ms/step - loss: 0.0077\n",
            "Epoch 42/100\n",
            "315/315 [==============================] - 2s 7ms/step - loss: 0.0070\n",
            "Epoch 43/100\n",
            "315/315 [==============================] - 2s 6ms/step - loss: 0.0076\n",
            "Epoch 44/100\n",
            "315/315 [==============================] - 2s 6ms/step - loss: 0.0077\n",
            "Epoch 45/100\n",
            "315/315 [==============================] - 2s 6ms/step - loss: 0.0074\n",
            "Epoch 46/100\n",
            "315/315 [==============================] - 2s 6ms/step - loss: 0.0075\n",
            "Epoch 47/100\n",
            "315/315 [==============================] - 2s 6ms/step - loss: 0.0073\n",
            "Epoch 48/100\n",
            "315/315 [==============================] - 2s 6ms/step - loss: 0.0066\n",
            "Epoch 49/100\n",
            "315/315 [==============================] - 2s 6ms/step - loss: 0.0073\n",
            "Epoch 50/100\n",
            "315/315 [==============================] - 2s 6ms/step - loss: 0.0071\n",
            "Epoch 51/100\n",
            "315/315 [==============================] - 2s 6ms/step - loss: 0.0066\n",
            "Epoch 52/100\n",
            "315/315 [==============================] - 2s 6ms/step - loss: 0.0066\n",
            "Epoch 53/100\n",
            "315/315 [==============================] - 2s 6ms/step - loss: 0.0066\n",
            "Epoch 54/100\n",
            "315/315 [==============================] - 2s 6ms/step - loss: 0.0071\n",
            "Epoch 55/100\n",
            "315/315 [==============================] - 2s 6ms/step - loss: 0.0064\n",
            "Epoch 56/100\n",
            "315/315 [==============================] - 2s 6ms/step - loss: 0.0067\n",
            "Epoch 57/100\n",
            "315/315 [==============================] - 2s 6ms/step - loss: 0.0072\n",
            "Epoch 58/100\n",
            "315/315 [==============================] - 3s 9ms/step - loss: 0.0067\n",
            "Epoch 59/100\n",
            "315/315 [==============================] - 2s 8ms/step - loss: 0.0071\n",
            "Epoch 60/100\n",
            "315/315 [==============================] - 2s 6ms/step - loss: 0.0069\n",
            "Epoch 61/100\n",
            "315/315 [==============================] - 2s 6ms/step - loss: 0.0076\n",
            "Epoch 62/100\n",
            "315/315 [==============================] - 2s 6ms/step - loss: 0.0075\n",
            "Epoch 63/100\n",
            "315/315 [==============================] - 2s 6ms/step - loss: 0.0063\n",
            "Epoch 64/100\n",
            "315/315 [==============================] - 2s 6ms/step - loss: 0.0069\n",
            "Epoch 65/100\n",
            "315/315 [==============================] - 2s 6ms/step - loss: 0.0068\n",
            "Epoch 66/100\n",
            "315/315 [==============================] - 2s 6ms/step - loss: 0.0061\n",
            "Epoch 67/100\n",
            "315/315 [==============================] - 2s 6ms/step - loss: 0.0067\n",
            "Epoch 68/100\n",
            "315/315 [==============================] - 2s 6ms/step - loss: 0.0066\n",
            "Epoch 69/100\n",
            "315/315 [==============================] - 2s 6ms/step - loss: 0.0071\n",
            "Epoch 70/100\n",
            "315/315 [==============================] - 2s 6ms/step - loss: 0.0067\n",
            "Epoch 71/100\n",
            "315/315 [==============================] - 2s 6ms/step - loss: 0.0066\n",
            "Epoch 72/100\n",
            "315/315 [==============================] - 2s 6ms/step - loss: 0.0061\n",
            "Epoch 73/100\n",
            "315/315 [==============================] - 2s 6ms/step - loss: 0.0058\n",
            "Epoch 74/100\n",
            "315/315 [==============================] - 2s 6ms/step - loss: 0.0063\n",
            "Epoch 75/100\n",
            "315/315 [==============================] - 2s 6ms/step - loss: 0.0068\n",
            "Epoch 76/100\n",
            "315/315 [==============================] - 2s 6ms/step - loss: 0.0060\n",
            "Epoch 77/100\n",
            "315/315 [==============================] - 2s 6ms/step - loss: 0.0060\n",
            "Epoch 78/100\n",
            "315/315 [==============================] - 2s 6ms/step - loss: 0.0069\n",
            "Epoch 79/100\n",
            "315/315 [==============================] - 2s 6ms/step - loss: 0.0067\n",
            "Epoch 80/100\n",
            "315/315 [==============================] - 2s 6ms/step - loss: 0.0064\n",
            "Epoch 81/100\n",
            "315/315 [==============================] - 2s 6ms/step - loss: 0.0066\n",
            "Epoch 82/100\n",
            "315/315 [==============================] - 2s 6ms/step - loss: 0.0061\n",
            "Epoch 83/100\n",
            "315/315 [==============================] - 2s 6ms/step - loss: 0.0065\n",
            "Epoch 84/100\n",
            "315/315 [==============================] - 2s 6ms/step - loss: 0.0067\n",
            "Epoch 85/100\n",
            "315/315 [==============================] - 2s 6ms/step - loss: 0.0064\n",
            "Epoch 86/100\n",
            "315/315 [==============================] - 2s 6ms/step - loss: 0.0063\n",
            "Epoch 87/100\n",
            "315/315 [==============================] - 2s 6ms/step - loss: 0.0064\n",
            "Epoch 88/100\n",
            "315/315 [==============================] - 2s 6ms/step - loss: 0.0064\n",
            "Epoch 89/100\n",
            "315/315 [==============================] - 2s 6ms/step - loss: 0.0064\n",
            "Epoch 90/100\n",
            "315/315 [==============================] - 2s 6ms/step - loss: 0.0064\n",
            "Epoch 91/100\n",
            "315/315 [==============================] - 2s 6ms/step - loss: 0.0065\n",
            "Epoch 92/100\n",
            "315/315 [==============================] - 2s 6ms/step - loss: 0.0063\n",
            "Epoch 93/100\n",
            "315/315 [==============================] - 2s 6ms/step - loss: 0.0059\n",
            "Epoch 94/100\n",
            "315/315 [==============================] - 2s 6ms/step - loss: 0.0061\n",
            "Epoch 95/100\n",
            "315/315 [==============================] - 2s 6ms/step - loss: 0.0062\n",
            "Epoch 96/100\n",
            "315/315 [==============================] - 2s 6ms/step - loss: 0.0063\n",
            "Epoch 97/100\n",
            "315/315 [==============================] - 2s 6ms/step - loss: 0.0064\n",
            "Epoch 98/100\n",
            "315/315 [==============================] - 2s 6ms/step - loss: 0.0059\n",
            "Epoch 99/100\n",
            "315/315 [==============================] - 2s 6ms/step - loss: 0.0058\n",
            "Epoch 100/100\n",
            "315/315 [==============================] - 2s 6ms/step - loss: 0.0055\n"
          ]
        },
        {
          "output_type": "error",
          "ename": "FileNotFoundError",
          "evalue": "ignored",
          "traceback": [
            "\u001b[0;31m---------------------------------------------------------------------------\u001b[0m",
            "\u001b[0;31mFileNotFoundError\u001b[0m                         Traceback (most recent call last)",
            "\u001b[0;32m<ipython-input-5-58b6b1091e81>\u001b[0m in \u001b[0;36m<module>\u001b[0;34m\u001b[0m\n\u001b[1;32m      7\u001b[0m \u001b[0mmodel\u001b[0m\u001b[0;34m.\u001b[0m\u001b[0mcompile\u001b[0m\u001b[0;34m(\u001b[0m\u001b[0moptimizer\u001b[0m \u001b[0;34m=\u001b[0m \u001b[0;34m'adam'\u001b[0m\u001b[0;34m,\u001b[0m \u001b[0mloss\u001b[0m \u001b[0;34m=\u001b[0m \u001b[0;34m'mean_squared_error'\u001b[0m\u001b[0;34m)\u001b[0m\u001b[0;34m\u001b[0m\u001b[0;34m\u001b[0m\u001b[0m\n\u001b[1;32m      8\u001b[0m \u001b[0mmodel\u001b[0m\u001b[0;34m.\u001b[0m\u001b[0mfit\u001b[0m\u001b[0;34m(\u001b[0m\u001b[0mX_train\u001b[0m\u001b[0;34m,\u001b[0m \u001b[0my_train\u001b[0m\u001b[0;34m,\u001b[0m \u001b[0mbatch_size\u001b[0m \u001b[0;34m=\u001b[0m \u001b[0;36m4\u001b[0m\u001b[0;34m,\u001b[0m \u001b[0mepochs\u001b[0m \u001b[0;34m=\u001b[0m \u001b[0;36m100\u001b[0m\u001b[0;34m)\u001b[0m\u001b[0;34m\u001b[0m\u001b[0;34m\u001b[0m\u001b[0m\n\u001b[0;32m----> 9\u001b[0;31m \u001b[0mtest_set\u001b[0m \u001b[0;34m=\u001b[0m \u001b[0mpd\u001b[0m\u001b[0;34m.\u001b[0m\u001b[0mread_csv\u001b[0m\u001b[0;34m(\u001b[0m\u001b[0;34m\"/content/drive/MyDrive/data/Starbuks_Stock_2019_test.csv\"\u001b[0m\u001b[0;34m)\u001b[0m\u001b[0;34m\u001b[0m\u001b[0;34m\u001b[0m\u001b[0m\n\u001b[0m\u001b[1;32m     10\u001b[0m \u001b[0mtest_set\u001b[0m \u001b[0;34m=\u001b[0m \u001b[0mtest_set\u001b[0m\u001b[0;34m.\u001b[0m\u001b[0miloc\u001b[0m\u001b[0;34m[\u001b[0m\u001b[0;34m:\u001b[0m\u001b[0;34m:\u001b[0m\u001b[0;34m-\u001b[0m\u001b[0;36m1\u001b[0m\u001b[0;34m]\u001b[0m\u001b[0;34m\u001b[0m\u001b[0;34m\u001b[0m\u001b[0m\n\u001b[1;32m     11\u001b[0m \u001b[0mreal_stock_price\u001b[0m \u001b[0;34m=\u001b[0m \u001b[0mtest_set\u001b[0m\u001b[0;34m.\u001b[0m\u001b[0miloc\u001b[0m\u001b[0;34m[\u001b[0m\u001b[0;34m:\u001b[0m\u001b[0;34m,\u001b[0m\u001b[0;36m1\u001b[0m\u001b[0;34m:\u001b[0m\u001b[0;36m2\u001b[0m\u001b[0;34m]\u001b[0m\u001b[0;34m.\u001b[0m\u001b[0mvalues\u001b[0m\u001b[0;34m\u001b[0m\u001b[0;34m\u001b[0m\u001b[0m\n",
            "\u001b[0;32m/usr/local/lib/python3.8/dist-packages/pandas/util/_decorators.py\u001b[0m in \u001b[0;36mwrapper\u001b[0;34m(*args, **kwargs)\u001b[0m\n\u001b[1;32m    309\u001b[0m                     \u001b[0mstacklevel\u001b[0m\u001b[0;34m=\u001b[0m\u001b[0mstacklevel\u001b[0m\u001b[0;34m,\u001b[0m\u001b[0;34m\u001b[0m\u001b[0;34m\u001b[0m\u001b[0m\n\u001b[1;32m    310\u001b[0m                 )\n\u001b[0;32m--> 311\u001b[0;31m             \u001b[0;32mreturn\u001b[0m \u001b[0mfunc\u001b[0m\u001b[0;34m(\u001b[0m\u001b[0;34m*\u001b[0m\u001b[0margs\u001b[0m\u001b[0;34m,\u001b[0m \u001b[0;34m**\u001b[0m\u001b[0mkwargs\u001b[0m\u001b[0;34m)\u001b[0m\u001b[0;34m\u001b[0m\u001b[0;34m\u001b[0m\u001b[0m\n\u001b[0m\u001b[1;32m    312\u001b[0m \u001b[0;34m\u001b[0m\u001b[0m\n\u001b[1;32m    313\u001b[0m         \u001b[0;32mreturn\u001b[0m \u001b[0mwrapper\u001b[0m\u001b[0;34m\u001b[0m\u001b[0;34m\u001b[0m\u001b[0m\n",
            "\u001b[0;32m/usr/local/lib/python3.8/dist-packages/pandas/io/parsers/readers.py\u001b[0m in \u001b[0;36mread_csv\u001b[0;34m(filepath_or_buffer, sep, delimiter, header, names, index_col, usecols, squeeze, prefix, mangle_dupe_cols, dtype, engine, converters, true_values, false_values, skipinitialspace, skiprows, skipfooter, nrows, na_values, keep_default_na, na_filter, verbose, skip_blank_lines, parse_dates, infer_datetime_format, keep_date_col, date_parser, dayfirst, cache_dates, iterator, chunksize, compression, thousands, decimal, lineterminator, quotechar, quoting, doublequote, escapechar, comment, encoding, encoding_errors, dialect, error_bad_lines, warn_bad_lines, on_bad_lines, delim_whitespace, low_memory, memory_map, float_precision, storage_options)\u001b[0m\n\u001b[1;32m    584\u001b[0m     \u001b[0mkwds\u001b[0m\u001b[0;34m.\u001b[0m\u001b[0mupdate\u001b[0m\u001b[0;34m(\u001b[0m\u001b[0mkwds_defaults\u001b[0m\u001b[0;34m)\u001b[0m\u001b[0;34m\u001b[0m\u001b[0;34m\u001b[0m\u001b[0m\n\u001b[1;32m    585\u001b[0m \u001b[0;34m\u001b[0m\u001b[0m\n\u001b[0;32m--> 586\u001b[0;31m     \u001b[0;32mreturn\u001b[0m \u001b[0m_read\u001b[0m\u001b[0;34m(\u001b[0m\u001b[0mfilepath_or_buffer\u001b[0m\u001b[0;34m,\u001b[0m \u001b[0mkwds\u001b[0m\u001b[0;34m)\u001b[0m\u001b[0;34m\u001b[0m\u001b[0;34m\u001b[0m\u001b[0m\n\u001b[0m\u001b[1;32m    587\u001b[0m \u001b[0;34m\u001b[0m\u001b[0m\n\u001b[1;32m    588\u001b[0m \u001b[0;34m\u001b[0m\u001b[0m\n",
            "\u001b[0;32m/usr/local/lib/python3.8/dist-packages/pandas/io/parsers/readers.py\u001b[0m in \u001b[0;36m_read\u001b[0;34m(filepath_or_buffer, kwds)\u001b[0m\n\u001b[1;32m    480\u001b[0m \u001b[0;34m\u001b[0m\u001b[0m\n\u001b[1;32m    481\u001b[0m     \u001b[0;31m# Create the parser.\u001b[0m\u001b[0;34m\u001b[0m\u001b[0;34m\u001b[0m\u001b[0;34m\u001b[0m\u001b[0m\n\u001b[0;32m--> 482\u001b[0;31m     \u001b[0mparser\u001b[0m \u001b[0;34m=\u001b[0m \u001b[0mTextFileReader\u001b[0m\u001b[0;34m(\u001b[0m\u001b[0mfilepath_or_buffer\u001b[0m\u001b[0;34m,\u001b[0m \u001b[0;34m**\u001b[0m\u001b[0mkwds\u001b[0m\u001b[0;34m)\u001b[0m\u001b[0;34m\u001b[0m\u001b[0;34m\u001b[0m\u001b[0m\n\u001b[0m\u001b[1;32m    483\u001b[0m \u001b[0;34m\u001b[0m\u001b[0m\n\u001b[1;32m    484\u001b[0m     \u001b[0;32mif\u001b[0m \u001b[0mchunksize\u001b[0m \u001b[0;32mor\u001b[0m \u001b[0miterator\u001b[0m\u001b[0;34m:\u001b[0m\u001b[0;34m\u001b[0m\u001b[0;34m\u001b[0m\u001b[0m\n",
            "\u001b[0;32m/usr/local/lib/python3.8/dist-packages/pandas/io/parsers/readers.py\u001b[0m in \u001b[0;36m__init__\u001b[0;34m(self, f, engine, **kwds)\u001b[0m\n\u001b[1;32m    809\u001b[0m             \u001b[0mself\u001b[0m\u001b[0;34m.\u001b[0m\u001b[0moptions\u001b[0m\u001b[0;34m[\u001b[0m\u001b[0;34m\"has_index_names\"\u001b[0m\u001b[0;34m]\u001b[0m \u001b[0;34m=\u001b[0m \u001b[0mkwds\u001b[0m\u001b[0;34m[\u001b[0m\u001b[0;34m\"has_index_names\"\u001b[0m\u001b[0;34m]\u001b[0m\u001b[0;34m\u001b[0m\u001b[0;34m\u001b[0m\u001b[0m\n\u001b[1;32m    810\u001b[0m \u001b[0;34m\u001b[0m\u001b[0m\n\u001b[0;32m--> 811\u001b[0;31m         \u001b[0mself\u001b[0m\u001b[0;34m.\u001b[0m\u001b[0m_engine\u001b[0m \u001b[0;34m=\u001b[0m \u001b[0mself\u001b[0m\u001b[0;34m.\u001b[0m\u001b[0m_make_engine\u001b[0m\u001b[0;34m(\u001b[0m\u001b[0mself\u001b[0m\u001b[0;34m.\u001b[0m\u001b[0mengine\u001b[0m\u001b[0;34m)\u001b[0m\u001b[0;34m\u001b[0m\u001b[0;34m\u001b[0m\u001b[0m\n\u001b[0m\u001b[1;32m    812\u001b[0m \u001b[0;34m\u001b[0m\u001b[0m\n\u001b[1;32m    813\u001b[0m     \u001b[0;32mdef\u001b[0m \u001b[0mclose\u001b[0m\u001b[0;34m(\u001b[0m\u001b[0mself\u001b[0m\u001b[0;34m)\u001b[0m\u001b[0;34m:\u001b[0m\u001b[0;34m\u001b[0m\u001b[0;34m\u001b[0m\u001b[0m\n",
            "\u001b[0;32m/usr/local/lib/python3.8/dist-packages/pandas/io/parsers/readers.py\u001b[0m in \u001b[0;36m_make_engine\u001b[0;34m(self, engine)\u001b[0m\n\u001b[1;32m   1038\u001b[0m             )\n\u001b[1;32m   1039\u001b[0m         \u001b[0;31m# error: Too many arguments for \"ParserBase\"\u001b[0m\u001b[0;34m\u001b[0m\u001b[0;34m\u001b[0m\u001b[0;34m\u001b[0m\u001b[0m\n\u001b[0;32m-> 1040\u001b[0;31m         \u001b[0;32mreturn\u001b[0m \u001b[0mmapping\u001b[0m\u001b[0;34m[\u001b[0m\u001b[0mengine\u001b[0m\u001b[0;34m]\u001b[0m\u001b[0;34m(\u001b[0m\u001b[0mself\u001b[0m\u001b[0;34m.\u001b[0m\u001b[0mf\u001b[0m\u001b[0;34m,\u001b[0m \u001b[0;34m**\u001b[0m\u001b[0mself\u001b[0m\u001b[0;34m.\u001b[0m\u001b[0moptions\u001b[0m\u001b[0;34m)\u001b[0m  \u001b[0;31m# type: ignore[call-arg]\u001b[0m\u001b[0;34m\u001b[0m\u001b[0;34m\u001b[0m\u001b[0m\n\u001b[0m\u001b[1;32m   1041\u001b[0m \u001b[0;34m\u001b[0m\u001b[0m\n\u001b[1;32m   1042\u001b[0m     \u001b[0;32mdef\u001b[0m \u001b[0m_failover_to_python\u001b[0m\u001b[0;34m(\u001b[0m\u001b[0mself\u001b[0m\u001b[0;34m)\u001b[0m\u001b[0;34m:\u001b[0m\u001b[0;34m\u001b[0m\u001b[0;34m\u001b[0m\u001b[0m\n",
            "\u001b[0;32m/usr/local/lib/python3.8/dist-packages/pandas/io/parsers/c_parser_wrapper.py\u001b[0m in \u001b[0;36m__init__\u001b[0;34m(self, src, **kwds)\u001b[0m\n\u001b[1;32m     49\u001b[0m \u001b[0;34m\u001b[0m\u001b[0m\n\u001b[1;32m     50\u001b[0m         \u001b[0;31m# open handles\u001b[0m\u001b[0;34m\u001b[0m\u001b[0;34m\u001b[0m\u001b[0;34m\u001b[0m\u001b[0m\n\u001b[0;32m---> 51\u001b[0;31m         \u001b[0mself\u001b[0m\u001b[0;34m.\u001b[0m\u001b[0m_open_handles\u001b[0m\u001b[0;34m(\u001b[0m\u001b[0msrc\u001b[0m\u001b[0;34m,\u001b[0m \u001b[0mkwds\u001b[0m\u001b[0;34m)\u001b[0m\u001b[0;34m\u001b[0m\u001b[0;34m\u001b[0m\u001b[0m\n\u001b[0m\u001b[1;32m     52\u001b[0m         \u001b[0;32massert\u001b[0m \u001b[0mself\u001b[0m\u001b[0;34m.\u001b[0m\u001b[0mhandles\u001b[0m \u001b[0;32mis\u001b[0m \u001b[0;32mnot\u001b[0m \u001b[0;32mNone\u001b[0m\u001b[0;34m\u001b[0m\u001b[0;34m\u001b[0m\u001b[0m\n\u001b[1;32m     53\u001b[0m \u001b[0;34m\u001b[0m\u001b[0m\n",
            "\u001b[0;32m/usr/local/lib/python3.8/dist-packages/pandas/io/parsers/base_parser.py\u001b[0m in \u001b[0;36m_open_handles\u001b[0;34m(self, src, kwds)\u001b[0m\n\u001b[1;32m    220\u001b[0m         \u001b[0mLet\u001b[0m \u001b[0mthe\u001b[0m \u001b[0mreaders\u001b[0m \u001b[0mopen\u001b[0m \u001b[0mIOHandles\u001b[0m \u001b[0mafter\u001b[0m \u001b[0mthey\u001b[0m \u001b[0mare\u001b[0m \u001b[0mdone\u001b[0m \u001b[0;32mwith\u001b[0m \u001b[0mtheir\u001b[0m \u001b[0mpotential\u001b[0m \u001b[0mraises\u001b[0m\u001b[0;34m.\u001b[0m\u001b[0;34m\u001b[0m\u001b[0;34m\u001b[0m\u001b[0m\n\u001b[1;32m    221\u001b[0m         \"\"\"\n\u001b[0;32m--> 222\u001b[0;31m         self.handles = get_handle(\n\u001b[0m\u001b[1;32m    223\u001b[0m             \u001b[0msrc\u001b[0m\u001b[0;34m,\u001b[0m\u001b[0;34m\u001b[0m\u001b[0;34m\u001b[0m\u001b[0m\n\u001b[1;32m    224\u001b[0m             \u001b[0;34m\"r\"\u001b[0m\u001b[0;34m,\u001b[0m\u001b[0;34m\u001b[0m\u001b[0;34m\u001b[0m\u001b[0m\n",
            "\u001b[0;32m/usr/local/lib/python3.8/dist-packages/pandas/io/common.py\u001b[0m in \u001b[0;36mget_handle\u001b[0;34m(path_or_buf, mode, encoding, compression, memory_map, is_text, errors, storage_options)\u001b[0m\n\u001b[1;32m    700\u001b[0m         \u001b[0;32mif\u001b[0m \u001b[0mioargs\u001b[0m\u001b[0;34m.\u001b[0m\u001b[0mencoding\u001b[0m \u001b[0;32mand\u001b[0m \u001b[0;34m\"b\"\u001b[0m \u001b[0;32mnot\u001b[0m \u001b[0;32min\u001b[0m \u001b[0mioargs\u001b[0m\u001b[0;34m.\u001b[0m\u001b[0mmode\u001b[0m\u001b[0;34m:\u001b[0m\u001b[0;34m\u001b[0m\u001b[0;34m\u001b[0m\u001b[0m\n\u001b[1;32m    701\u001b[0m             \u001b[0;31m# Encoding\u001b[0m\u001b[0;34m\u001b[0m\u001b[0;34m\u001b[0m\u001b[0;34m\u001b[0m\u001b[0m\n\u001b[0;32m--> 702\u001b[0;31m             handle = open(\n\u001b[0m\u001b[1;32m    703\u001b[0m                 \u001b[0mhandle\u001b[0m\u001b[0;34m,\u001b[0m\u001b[0;34m\u001b[0m\u001b[0;34m\u001b[0m\u001b[0m\n\u001b[1;32m    704\u001b[0m                 \u001b[0mioargs\u001b[0m\u001b[0;34m.\u001b[0m\u001b[0mmode\u001b[0m\u001b[0;34m,\u001b[0m\u001b[0;34m\u001b[0m\u001b[0;34m\u001b[0m\u001b[0m\n",
            "\u001b[0;31mFileNotFoundError\u001b[0m: [Errno 2] No such file or directory: '/content/drive/MyDrive/data/Starbuks_Stock_2019_test.csv'"
          ]
        }
      ]
    },
    {
      "cell_type": "code",
      "source": [
        "test_set = pd.read_csv('/content/drive/MyDrive/StockPrice_prediction/Starbucks_Stock_2019_test.csv')\n",
        "test_set = test_set.iloc[::-1]\n",
        "real_stock_price = test_set.iloc[:,1:2].values\n",
        "inputs = real_stock_price\n",
        "inputs = scaler.transform(inputs)\n",
        "inputs = np.reshape(inputs, (7, 1, 1))\n",
        "predicted_stock_price = model.predict(inputs)\n",
        "predicted_stock_price = scaler.inverse_transform(predicted_stock_price)"
      ],
      "metadata": {
        "id": "pwr0XyejgHwY"
      },
      "execution_count": null,
      "outputs": []
    },
    {
      "cell_type": "code",
      "source": [
        "plt.plot(real_stock_price, color = 'red', label = 'Real Stock Price')\n",
        "plt.plot(predicted_stock_price, color = 'blue', label = 'Predicted Stock Price')\n",
        "plt.title('Open Stock Price Prediction')\n",
        "plt.xlabel('Time')\n",
        "plt.ylabel('Stock Price')\n",
        "plt.legend()\n",
        "plt.show()"
      ],
      "metadata": {
        "id": "ebV1co_zgacK"
      },
      "execution_count": null,
      "outputs": []
    },
    {
      "cell_type": "code",
      "source": [
        "# Making predictions for the entire dataset\n",
        "# Getting the real stock price of 2017 - 2021\n",
        "real_stock_price_train = pd.read_csv('/content/drive/MyDrive/StockPrice_prediction/Starbucks_Stock_2014_2018.csv')\n",
        "real_stock_price_train = real_stock_price_train.iloc[::-1]\n",
        "real_stock_price_train = real_stock_price_train.iloc[:,1:2].values\n",
        "\n",
        "# Getting the predicted stock price of 2017 - 2021\n",
        "predicted_stock_price_train = model.predict(X_train)\n",
        "predicted_stock_price_train = scaler.inverse_transform(predicted_stock_price_train)\n",
        "\n",
        "# Visualising the results\n",
        "plt.plot(real_stock_price_train, color = 'red', label = 'Stock Price')\n",
        "plt.plot(predicted_stock_price_train, color = 'blue', label = 'Predicted Stock Price')\n",
        "plt.title('Stock Price Prediction')\n",
        "plt.xlabel('Time')\n",
        "plt.ylabel('Stock Price')\n",
        "plt.legend()\n",
        "plt.show()"
      ],
      "metadata": {
        "id": "9dOIew-sgfUi"
      },
      "execution_count": null,
      "outputs": []
    },
    {
      "cell_type": "code",
      "source": [
        "import math\n",
        "from sklearn.metrics import mean_squared_error\n",
        "rmse = math.sqrt(mean_squared_error(real_stock_price, predicted_stock_price))"
      ],
      "metadata": {
        "id": "hLiPYt2FghmR"
      },
      "execution_count": null,
      "outputs": []
    }
  ]
}