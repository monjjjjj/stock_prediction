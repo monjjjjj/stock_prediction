{
  "nbformat": 4,
  "nbformat_minor": 0,
  "metadata": {
    "colab": {
      "provenance": [],
      "include_colab_link": true
    },
    "kernelspec": {
      "name": "python3",
      "display_name": "Python 3"
    },
    "language_info": {
      "name": "python"
    },
    "accelerator": "GPU",
    "gpuClass": "standard"
  },
  "cells": [
    {
      "cell_type": "markdown",
      "metadata": {
        "id": "view-in-github",
        "colab_type": "text"
      },
      "source": [
        "<a href=\"https://colab.research.google.com/github/monjjjjj/stockprice_prediction/blob/main/stock_price_prediction.ipynb\" target=\"_parent\"><img src=\"https://colab.research.google.com/assets/colab-badge.svg\" alt=\"Open In Colab\"/></a>"
      ]
    },
    {
      "cell_type": "code",
      "execution_count": null,
      "metadata": {
        "id": "tmsII8TtoGso"
      },
      "outputs": [],
      "source": [
        "import numpy as np # linear algebra\n",
        "import pandas as pd # data processing, CSV file I/O (e.g. pd.read_csv)\n",
        "from matplotlib import pyplot as plt\n",
        "from sklearn.preprocessing import MinMaxScaler, StandardScaler\n",
        "from keras.models import Sequential\n",
        "from keras.layers import Dense\n",
        "from keras.layers import LSTM"
      ]
    },
    {
      "cell_type": "code",
      "source": [
        "training_set = pd.read_csv('Starbucks_Stock_2017_2021.csv')\n",
        "training_set.head()"
      ],
      "metadata": {
        "colab": {
          "base_uri": "https://localhost:8080/",
          "height": 206
        },
        "id": "ZMQN0sGRoROd",
        "outputId": "d7953de4-c937-432a-c12f-98fbe63e8532"
      },
      "execution_count": null,
      "outputs": [
        {
          "output_type": "execute_result",
          "data": {
            "text/plain": [
              "         Date    Open    High     Low  Close/Last     Volume\n",
              "0  12/31/2021  115.67  117.48  115.60      116.97  3674938.0\n",
              "1  12/30/2021  116.38  117.34  116.08      116.24  4068918.0\n",
              "2  12/29/2021  115.40  116.96  115.31      116.38  4215460.0\n",
              "3  12/28/2021  114.00  116.28  113.81      115.57  4562965.0\n",
              "4  12/27/2021  112.60  114.37  112.39      114.22  3717026.0"
            ],
            "text/html": [
              "\n",
              "  <div id=\"df-a3ff83c3-d258-43f9-8ede-f856ba5c5540\">\n",
              "    <div class=\"colab-df-container\">\n",
              "      <div>\n",
              "<style scoped>\n",
              "    .dataframe tbody tr th:only-of-type {\n",
              "        vertical-align: middle;\n",
              "    }\n",
              "\n",
              "    .dataframe tbody tr th {\n",
              "        vertical-align: top;\n",
              "    }\n",
              "\n",
              "    .dataframe thead th {\n",
              "        text-align: right;\n",
              "    }\n",
              "</style>\n",
              "<table border=\"1\" class=\"dataframe\">\n",
              "  <thead>\n",
              "    <tr style=\"text-align: right;\">\n",
              "      <th></th>\n",
              "      <th>Date</th>\n",
              "      <th>Open</th>\n",
              "      <th>High</th>\n",
              "      <th>Low</th>\n",
              "      <th>Close/Last</th>\n",
              "      <th>Volume</th>\n",
              "    </tr>\n",
              "  </thead>\n",
              "  <tbody>\n",
              "    <tr>\n",
              "      <th>0</th>\n",
              "      <td>12/31/2021</td>\n",
              "      <td>115.67</td>\n",
              "      <td>117.48</td>\n",
              "      <td>115.60</td>\n",
              "      <td>116.97</td>\n",
              "      <td>3674938.0</td>\n",
              "    </tr>\n",
              "    <tr>\n",
              "      <th>1</th>\n",
              "      <td>12/30/2021</td>\n",
              "      <td>116.38</td>\n",
              "      <td>117.34</td>\n",
              "      <td>116.08</td>\n",
              "      <td>116.24</td>\n",
              "      <td>4068918.0</td>\n",
              "    </tr>\n",
              "    <tr>\n",
              "      <th>2</th>\n",
              "      <td>12/29/2021</td>\n",
              "      <td>115.40</td>\n",
              "      <td>116.96</td>\n",
              "      <td>115.31</td>\n",
              "      <td>116.38</td>\n",
              "      <td>4215460.0</td>\n",
              "    </tr>\n",
              "    <tr>\n",
              "      <th>3</th>\n",
              "      <td>12/28/2021</td>\n",
              "      <td>114.00</td>\n",
              "      <td>116.28</td>\n",
              "      <td>113.81</td>\n",
              "      <td>115.57</td>\n",
              "      <td>4562965.0</td>\n",
              "    </tr>\n",
              "    <tr>\n",
              "      <th>4</th>\n",
              "      <td>12/27/2021</td>\n",
              "      <td>112.60</td>\n",
              "      <td>114.37</td>\n",
              "      <td>112.39</td>\n",
              "      <td>114.22</td>\n",
              "      <td>3717026.0</td>\n",
              "    </tr>\n",
              "  </tbody>\n",
              "</table>\n",
              "</div>\n",
              "      <button class=\"colab-df-convert\" onclick=\"convertToInteractive('df-a3ff83c3-d258-43f9-8ede-f856ba5c5540')\"\n",
              "              title=\"Convert this dataframe to an interactive table.\"\n",
              "              style=\"display:none;\">\n",
              "        \n",
              "  <svg xmlns=\"http://www.w3.org/2000/svg\" height=\"24px\"viewBox=\"0 0 24 24\"\n",
              "       width=\"24px\">\n",
              "    <path d=\"M0 0h24v24H0V0z\" fill=\"none\"/>\n",
              "    <path d=\"M18.56 5.44l.94 2.06.94-2.06 2.06-.94-2.06-.94-.94-2.06-.94 2.06-2.06.94zm-11 1L8.5 8.5l.94-2.06 2.06-.94-2.06-.94L8.5 2.5l-.94 2.06-2.06.94zm10 10l.94 2.06.94-2.06 2.06-.94-2.06-.94-.94-2.06-.94 2.06-2.06.94z\"/><path d=\"M17.41 7.96l-1.37-1.37c-.4-.4-.92-.59-1.43-.59-.52 0-1.04.2-1.43.59L10.3 9.45l-7.72 7.72c-.78.78-.78 2.05 0 2.83L4 21.41c.39.39.9.59 1.41.59.51 0 1.02-.2 1.41-.59l7.78-7.78 2.81-2.81c.8-.78.8-2.07 0-2.86zM5.41 20L4 18.59l7.72-7.72 1.47 1.35L5.41 20z\"/>\n",
              "  </svg>\n",
              "      </button>\n",
              "      \n",
              "  <style>\n",
              "    .colab-df-container {\n",
              "      display:flex;\n",
              "      flex-wrap:wrap;\n",
              "      gap: 12px;\n",
              "    }\n",
              "\n",
              "    .colab-df-convert {\n",
              "      background-color: #E8F0FE;\n",
              "      border: none;\n",
              "      border-radius: 50%;\n",
              "      cursor: pointer;\n",
              "      display: none;\n",
              "      fill: #1967D2;\n",
              "      height: 32px;\n",
              "      padding: 0 0 0 0;\n",
              "      width: 32px;\n",
              "    }\n",
              "\n",
              "    .colab-df-convert:hover {\n",
              "      background-color: #E2EBFA;\n",
              "      box-shadow: 0px 1px 2px rgba(60, 64, 67, 0.3), 0px 1px 3px 1px rgba(60, 64, 67, 0.15);\n",
              "      fill: #174EA6;\n",
              "    }\n",
              "\n",
              "    [theme=dark] .colab-df-convert {\n",
              "      background-color: #3B4455;\n",
              "      fill: #D2E3FC;\n",
              "    }\n",
              "\n",
              "    [theme=dark] .colab-df-convert:hover {\n",
              "      background-color: #434B5C;\n",
              "      box-shadow: 0px 1px 3px 1px rgba(0, 0, 0, 0.15);\n",
              "      filter: drop-shadow(0px 1px 2px rgba(0, 0, 0, 0.3));\n",
              "      fill: #FFFFFF;\n",
              "    }\n",
              "  </style>\n",
              "\n",
              "      <script>\n",
              "        const buttonEl =\n",
              "          document.querySelector('#df-a3ff83c3-d258-43f9-8ede-f856ba5c5540 button.colab-df-convert');\n",
              "        buttonEl.style.display =\n",
              "          google.colab.kernel.accessAllowed ? 'block' : 'none';\n",
              "\n",
              "        async function convertToInteractive(key) {\n",
              "          const element = document.querySelector('#df-a3ff83c3-d258-43f9-8ede-f856ba5c5540');\n",
              "          const dataTable =\n",
              "            await google.colab.kernel.invokeFunction('convertToInteractive',\n",
              "                                                     [key], {});\n",
              "          if (!dataTable) return;\n",
              "\n",
              "          const docLinkHtml = 'Like what you see? Visit the ' +\n",
              "            '<a target=\"_blank\" href=https://colab.research.google.com/notebooks/data_table.ipynb>data table notebook</a>'\n",
              "            + ' to learn more about interactive tables.';\n",
              "          element.innerHTML = '';\n",
              "          dataTable['output_type'] = 'display_data';\n",
              "          await google.colab.output.renderOutput(dataTable, element);\n",
              "          const docLink = document.createElement('div');\n",
              "          docLink.innerHTML = docLinkHtml;\n",
              "          element.appendChild(docLink);\n",
              "        }\n",
              "      </script>\n",
              "    </div>\n",
              "  </div>\n",
              "  "
            ]
          },
          "metadata": {},
          "execution_count": 7
        }
      ]
    },
    {
      "cell_type": "code",
      "source": [
        "#training_set = training_set.iloc[:, 1:2].values\n",
        "#print(training_set)\n",
        "#print(len(training_set))"
      ],
      "metadata": {
        "colab": {
          "base_uri": "https://localhost:8080/"
        },
        "id": "EwlpC7L8l9m-",
        "outputId": "b934c4f7-ee37-4e0e-bc6d-e2bbc5d27cef"
      },
      "execution_count": null,
      "outputs": [
        {
          "output_type": "stream",
          "name": "stdout",
          "text": [
            "[[115.67]\n",
            " [116.38]\n",
            " [115.4 ]\n",
            " ...\n",
            " [ 56.08]\n",
            " [ 55.56]\n",
            " [ 55.91]]\n",
            "1259\n"
          ]
        }
      ]
    },
    {
      "cell_type": "code",
      "source": [
        "training_set = training_set.iloc[:, 1:2].values\n",
        "\n",
        "scaler = MinMaxScaler()\n",
        "training_set = scaler.fit_transform(training_set)\n",
        "\n",
        "X_train = training_set[0:1258]\n",
        "y_train = training_set[1:1259]\n",
        "X_train = np.reshape(X_train, (1258, 1, 1))\n",
        "\n"
      ],
      "metadata": {
        "id": "WNrbhNK9oTuh"
      },
      "execution_count": null,
      "outputs": []
    },
    {
      "cell_type": "code",
      "source": [
        "model = Sequential()\n",
        "model.add(LSTM(units = 4, activation = 'sigmoid', input_shape = (None, 1)))\n",
        "model.add(Dense(units = 1))\n",
        "model.compile(optimizer = 'adam', loss = 'mean_squared_error')\n",
        "model.fit(X_train, y_train, batch_size = 4, epochs = 100)\n",
        "test_set = pd.read_csv('Starbucks_Stock_2022_test.csv')\n",
        "real_stock_price = test_set.iloc[:,1:2].values\n",
        "inputs = real_stock_price\n",
        "inputs = scaler.transform(inputs)\n",
        "inputs = np.reshape(inputs, (10, 1, 1))\n",
        "predicted_stock_price = model.predict(inputs)\n",
        "\n",
        "predicted_stock_price = scaler.inverse_transform(predicted_stock_price)"
      ],
      "metadata": {
        "colab": {
          "base_uri": "https://localhost:8080/"
        },
        "id": "bBByhJ5joTpB",
        "outputId": "e0436bb0-828d-4ce8-f763-11be90938f14"
      },
      "execution_count": null,
      "outputs": [
        {
          "output_type": "stream",
          "name": "stderr",
          "text": [
            "WARNING:tensorflow:Layer lstm_1 will not use cuDNN kernels since it doesn't meet the criteria. It will use a generic GPU kernel as fallback when running on GPU.\n"
          ]
        },
        {
          "output_type": "stream",
          "name": "stdout",
          "text": [
            "Epoch 1/100\n",
            "315/315 [==============================] - 3s 5ms/step - loss: 0.5695\n",
            "Epoch 2/100\n",
            "315/315 [==============================] - 2s 5ms/step - loss: 0.1132\n",
            "Epoch 3/100\n",
            "315/315 [==============================] - 2s 5ms/step - loss: 0.0579\n",
            "Epoch 4/100\n",
            "315/315 [==============================] - 2s 5ms/step - loss: 0.0515\n",
            "Epoch 5/100\n",
            "315/315 [==============================] - 2s 5ms/step - loss: 0.0472\n",
            "Epoch 6/100\n",
            "315/315 [==============================] - 1s 5ms/step - loss: 0.0422\n",
            "Epoch 7/100\n",
            "315/315 [==============================] - 2s 5ms/step - loss: 0.0365\n",
            "Epoch 8/100\n",
            "315/315 [==============================] - 1s 5ms/step - loss: 0.0304\n",
            "Epoch 9/100\n",
            "315/315 [==============================] - 1s 5ms/step - loss: 0.0239\n",
            "Epoch 10/100\n",
            "315/315 [==============================] - 2s 5ms/step - loss: 0.0176\n",
            "Epoch 11/100\n",
            "315/315 [==============================] - 2s 5ms/step - loss: 0.0120\n",
            "Epoch 12/100\n",
            "315/315 [==============================] - 2s 5ms/step - loss: 0.0074\n",
            "Epoch 13/100\n",
            "315/315 [==============================] - 2s 5ms/step - loss: 0.0042\n",
            "Epoch 14/100\n",
            "315/315 [==============================] - 1s 5ms/step - loss: 0.0022\n",
            "Epoch 15/100\n",
            "315/315 [==============================] - 2s 5ms/step - loss: 0.0012\n",
            "Epoch 16/100\n",
            "315/315 [==============================] - 2s 5ms/step - loss: 8.1511e-04\n",
            "Epoch 17/100\n",
            "315/315 [==============================] - 2s 5ms/step - loss: 6.7149e-04\n",
            "Epoch 18/100\n",
            "315/315 [==============================] - 2s 5ms/step - loss: 6.1805e-04\n",
            "Epoch 19/100\n",
            "315/315 [==============================] - 2s 5ms/step - loss: 5.8653e-04\n",
            "Epoch 20/100\n",
            "315/315 [==============================] - 2s 5ms/step - loss: 5.5807e-04\n",
            "Epoch 21/100\n",
            "315/315 [==============================] - 2s 5ms/step - loss: 5.3255e-04\n",
            "Epoch 22/100\n",
            "315/315 [==============================] - 2s 5ms/step - loss: 5.0731e-04\n",
            "Epoch 23/100\n",
            "315/315 [==============================] - 1s 5ms/step - loss: 4.7690e-04\n",
            "Epoch 24/100\n",
            "315/315 [==============================] - 2s 5ms/step - loss: 4.5438e-04\n",
            "Epoch 25/100\n",
            "315/315 [==============================] - 2s 5ms/step - loss: 4.2807e-04\n",
            "Epoch 26/100\n",
            "315/315 [==============================] - 2s 5ms/step - loss: 4.1013e-04\n",
            "Epoch 27/100\n",
            "315/315 [==============================] - 2s 5ms/step - loss: 3.8974e-04\n",
            "Epoch 28/100\n",
            "315/315 [==============================] - 2s 5ms/step - loss: 3.7722e-04\n",
            "Epoch 29/100\n",
            "315/315 [==============================] - 2s 5ms/step - loss: 3.6417e-04\n",
            "Epoch 30/100\n",
            "315/315 [==============================] - 2s 5ms/step - loss: 3.4600e-04\n",
            "Epoch 31/100\n",
            "315/315 [==============================] - 2s 5ms/step - loss: 3.3305e-04\n",
            "Epoch 32/100\n",
            "315/315 [==============================] - 1s 5ms/step - loss: 3.2159e-04\n",
            "Epoch 33/100\n",
            "315/315 [==============================] - 2s 5ms/step - loss: 3.1854e-04\n",
            "Epoch 34/100\n",
            "315/315 [==============================] - 1s 5ms/step - loss: 3.0833e-04\n",
            "Epoch 35/100\n",
            "315/315 [==============================] - 1s 5ms/step - loss: 3.0713e-04\n",
            "Epoch 36/100\n",
            "315/315 [==============================] - 2s 5ms/step - loss: 3.0259e-04\n",
            "Epoch 37/100\n",
            "315/315 [==============================] - 1s 5ms/step - loss: 2.9378e-04\n",
            "Epoch 38/100\n",
            "315/315 [==============================] - 1s 5ms/step - loss: 2.8685e-04\n",
            "Epoch 39/100\n",
            "315/315 [==============================] - 1s 5ms/step - loss: 2.9044e-04\n",
            "Epoch 40/100\n",
            "315/315 [==============================] - 2s 5ms/step - loss: 2.8659e-04\n",
            "Epoch 41/100\n",
            "315/315 [==============================] - 1s 5ms/step - loss: 2.8640e-04\n",
            "Epoch 42/100\n",
            "315/315 [==============================] - 1s 5ms/step - loss: 2.8177e-04\n",
            "Epoch 43/100\n",
            "315/315 [==============================] - 2s 5ms/step - loss: 2.8170e-04\n",
            "Epoch 44/100\n",
            "315/315 [==============================] - 1s 5ms/step - loss: 2.7532e-04\n",
            "Epoch 45/100\n",
            "315/315 [==============================] - 2s 5ms/step - loss: 2.7904e-04\n",
            "Epoch 46/100\n",
            "315/315 [==============================] - 1s 5ms/step - loss: 2.7667e-04\n",
            "Epoch 47/100\n",
            "315/315 [==============================] - 1s 5ms/step - loss: 2.7892e-04\n",
            "Epoch 48/100\n",
            "315/315 [==============================] - 1s 5ms/step - loss: 2.7806e-04\n",
            "Epoch 49/100\n",
            "315/315 [==============================] - 2s 5ms/step - loss: 2.7507e-04\n",
            "Epoch 50/100\n",
            "315/315 [==============================] - 1s 5ms/step - loss: 2.7445e-04\n",
            "Epoch 51/100\n",
            "315/315 [==============================] - 1s 5ms/step - loss: 2.7523e-04\n",
            "Epoch 52/100\n",
            "315/315 [==============================] - 1s 5ms/step - loss: 2.7462e-04\n",
            "Epoch 53/100\n",
            "315/315 [==============================] - 1s 5ms/step - loss: 2.7420e-04\n",
            "Epoch 54/100\n",
            "315/315 [==============================] - 1s 5ms/step - loss: 2.7275e-04\n",
            "Epoch 55/100\n",
            "315/315 [==============================] - 2s 5ms/step - loss: 2.7126e-04\n",
            "Epoch 56/100\n",
            "315/315 [==============================] - 1s 5ms/step - loss: 2.7439e-04\n",
            "Epoch 57/100\n",
            "315/315 [==============================] - 1s 5ms/step - loss: 2.7135e-04\n",
            "Epoch 58/100\n",
            "315/315 [==============================] - 1s 5ms/step - loss: 2.7390e-04\n",
            "Epoch 59/100\n",
            "315/315 [==============================] - 1s 5ms/step - loss: 2.7390e-04\n",
            "Epoch 60/100\n",
            "315/315 [==============================] - 1s 5ms/step - loss: 2.6960e-04\n",
            "Epoch 61/100\n",
            "315/315 [==============================] - 1s 5ms/step - loss: 2.7059e-04\n",
            "Epoch 62/100\n",
            "315/315 [==============================] - 1s 5ms/step - loss: 2.7158e-04\n",
            "Epoch 63/100\n",
            "315/315 [==============================] - 1s 5ms/step - loss: 2.7354e-04\n",
            "Epoch 64/100\n",
            "315/315 [==============================] - 1s 5ms/step - loss: 2.7397e-04\n",
            "Epoch 65/100\n",
            "315/315 [==============================] - 1s 5ms/step - loss: 2.6799e-04\n",
            "Epoch 66/100\n",
            "315/315 [==============================] - 1s 5ms/step - loss: 2.7203e-04\n",
            "Epoch 67/100\n",
            "315/315 [==============================] - 1s 5ms/step - loss: 2.7392e-04\n",
            "Epoch 68/100\n",
            "315/315 [==============================] - 1s 5ms/step - loss: 2.7489e-04\n",
            "Epoch 69/100\n",
            "315/315 [==============================] - 2s 5ms/step - loss: 2.7316e-04\n",
            "Epoch 70/100\n",
            "315/315 [==============================] - 1s 5ms/step - loss: 2.7371e-04\n",
            "Epoch 71/100\n",
            "315/315 [==============================] - 1s 5ms/step - loss: 2.7169e-04\n",
            "Epoch 72/100\n",
            "315/315 [==============================] - 1s 5ms/step - loss: 2.7095e-04\n",
            "Epoch 73/100\n",
            "315/315 [==============================] - 1s 5ms/step - loss: 2.7208e-04\n",
            "Epoch 74/100\n",
            "315/315 [==============================] - 1s 5ms/step - loss: 2.7143e-04\n",
            "Epoch 75/100\n",
            "315/315 [==============================] - 1s 5ms/step - loss: 2.6977e-04\n",
            "Epoch 76/100\n",
            "315/315 [==============================] - 1s 5ms/step - loss: 2.7345e-04\n",
            "Epoch 77/100\n",
            "315/315 [==============================] - 1s 5ms/step - loss: 2.7330e-04\n",
            "Epoch 78/100\n",
            "315/315 [==============================] - 1s 5ms/step - loss: 2.7295e-04\n",
            "Epoch 79/100\n",
            "315/315 [==============================] - 1s 5ms/step - loss: 2.8174e-04\n",
            "Epoch 80/100\n",
            "315/315 [==============================] - 2s 5ms/step - loss: 2.7738e-04\n",
            "Epoch 81/100\n",
            "315/315 [==============================] - 1s 5ms/step - loss: 2.6698e-04\n",
            "Epoch 82/100\n",
            "315/315 [==============================] - 1s 5ms/step - loss: 2.6894e-04\n",
            "Epoch 83/100\n",
            "315/315 [==============================] - 2s 5ms/step - loss: 2.7147e-04\n",
            "Epoch 84/100\n",
            "315/315 [==============================] - 1s 5ms/step - loss: 2.6695e-04\n",
            "Epoch 85/100\n",
            "315/315 [==============================] - 2s 5ms/step - loss: 2.7319e-04\n",
            "Epoch 86/100\n",
            "315/315 [==============================] - 1s 5ms/step - loss: 2.7455e-04\n",
            "Epoch 87/100\n",
            "315/315 [==============================] - 1s 5ms/step - loss: 2.6973e-04\n",
            "Epoch 88/100\n",
            "315/315 [==============================] - 2s 5ms/step - loss: 2.7484e-04\n",
            "Epoch 89/100\n",
            "315/315 [==============================] - 1s 5ms/step - loss: 2.7130e-04\n",
            "Epoch 90/100\n",
            "315/315 [==============================] - 2s 5ms/step - loss: 2.7240e-04\n",
            "Epoch 91/100\n",
            "315/315 [==============================] - 1s 5ms/step - loss: 2.7209e-04\n",
            "Epoch 92/100\n",
            "315/315 [==============================] - 1s 5ms/step - loss: 2.6967e-04\n",
            "Epoch 93/100\n",
            "315/315 [==============================] - 1s 5ms/step - loss: 2.7041e-04\n",
            "Epoch 94/100\n",
            "315/315 [==============================] - 1s 5ms/step - loss: 2.6704e-04\n",
            "Epoch 95/100\n",
            "315/315 [==============================] - 1s 5ms/step - loss: 2.6916e-04\n",
            "Epoch 96/100\n",
            "315/315 [==============================] - 1s 5ms/step - loss: 2.7018e-04\n",
            "Epoch 97/100\n",
            "315/315 [==============================] - 2s 5ms/step - loss: 2.7143e-04\n",
            "Epoch 98/100\n",
            "315/315 [==============================] - 1s 5ms/step - loss: 2.7007e-04\n",
            "Epoch 99/100\n",
            "315/315 [==============================] - 1s 5ms/step - loss: 2.7279e-04\n",
            "Epoch 100/100\n",
            "315/315 [==============================] - 1s 5ms/step - loss: 2.6676e-04\n",
            "1/1 [==============================] - 0s 172ms/step\n"
          ]
        }
      ]
    },
    {
      "cell_type": "code",
      "source": [
        "plt.plot(real_stock_price, color = 'red', label = 'Real Stock Price')\n",
        "plt.plot(predicted_stock_price, color = 'blue', label = 'Predicted Stock Price')\n",
        "plt.title('Open Stock Price Prediction')\n",
        "plt.xlabel('Time')\n",
        "plt.ylabel('Stock Price')\n",
        "plt.legend()\n",
        "plt.show()"
      ],
      "metadata": {
        "colab": {
          "base_uri": "https://localhost:8080/",
          "height": 295
        },
        "id": "wbfDQ9F3oTid",
        "outputId": "f83864cf-f2c2-42c2-d2fc-abc2878eac8c"
      },
      "execution_count": null,
      "outputs": [
        {
          "output_type": "display_data",
          "data": {
            "text/plain": [
              "<Figure size 432x288 with 1 Axes>"
            ],
            "image/png": "[encoded data removed]"
          },
          "metadata": {
            "needs_background": "light"
          }
        }
      ]
    },
    {
      "cell_type": "code",
      "source": [
        "# Making predictions for the entire dataset\n",
        "# Getting the real stock price of 2017 - 2021\n",
        "real_stock_price_train = pd.read_csv('Starbucks_Stock_2017_2021.csv')\n",
        "real_stock_price_train = real_stock_price_train.iloc[:,1:2].values\n",
        "\n",
        "# Getting the predicted stock price of 2017 - 2021\n",
        "predicted_stock_price_train = model.predict(X_train)\n",
        "predicted_stock_price_train = scaler.inverse_transform(predicted_stock_price_train)\n",
        "\n",
        "# Visualising the results\n",
        "plt.plot(real_stock_price_train, color = 'red', label = 'Stock Price')\n",
        "plt.plot(predicted_stock_price_train, color = 'blue', label = 'Predicted Stock Price')\n",
        "plt.title('Stock Price Prediction')\n",
        "plt.xlabel('Time')\n",
        "plt.ylabel('Stock Price')\n",
        "plt.legend()\n",
        "plt.show()"
      ],
      "metadata": {
        "colab": {
          "base_uri": "https://localhost:8080/",
          "height": 312
        },
        "id": "MLLSiqNVoTcV",
        "outputId": "5009ee49-e4d3-4a1f-fa68-66ef8075ffda"
      },
      "execution_count": null,
      "outputs": [
        {
          "output_type": "stream",
          "name": "stdout",
          "text": [
            "40/40 [==============================] - 0s 2ms/step\n"
          ]
        },
        {
          "output_type": "display_data",
          "data": {
            "text/plain": [
              "<Figure size 432x288 with 1 Axes>"
            ],
            "image/png": "[encoded data removed]"
          },
          "metadata": {
            "needs_background": "light"
          }
        }
      ]
    },
    {
      "cell_type": "code",
      "source": [
        "import math\n",
        "from sklearn.metrics import mean_squared_error\n",
        "rmse = math.sqrt(mean_squared_error(real_stock_price, predicted_stock_price))"
      ],
      "metadata": {
        "id": "WNZyTXDNoTUt"
      },
      "execution_count": null,
      "outputs": []
    }
  ]
}